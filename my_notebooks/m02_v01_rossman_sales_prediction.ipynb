{
 "cells": [
  {
   "cell_type": "markdown",
   "id": "d6402121",
   "metadata": {},
   "source": [
    "# 0.0. IMPORTS"
   ]
  },
  {
   "cell_type": "code",
   "execution_count": 89,
   "id": "3791ba87",
   "metadata": {
    "ExecuteTime": {
     "end_time": "2021-12-29T23:12:50.374699Z",
     "start_time": "2021-12-29T23:12:47.439894Z"
    }
   },
   "outputs": [],
   "source": [
    "import pandas as pd\n",
    "import numpy as np\n"
   ]
  },
  {
   "cell_type": "code",
   "execution_count": 114,
   "id": "39a8172b",
   "metadata": {
    "ExecuteTime": {
     "end_time": "2021-12-29T23:26:01.214730Z",
     "start_time": "2021-12-29T23:26:01.197737Z"
    }
   },
   "outputs": [],
   "source": [
    "import seaborn as sns\n",
    "import matplotlib.pyplot as plt"
   ]
  },
  {
   "cell_type": "code",
   "execution_count": null,
   "id": "a242f41f",
   "metadata": {},
   "outputs": [],
   "source": [
    "from inflection import underscore"
   ]
  },
  {
   "cell_type": "markdown",
   "id": "be6e33c4",
   "metadata": {
    "heading_collapsed": true
   },
   "source": [
    "## 0.1. Helper Functions"
   ]
  },
  {
   "cell_type": "code",
   "execution_count": null,
   "id": "c00a32af",
   "metadata": {
    "hidden": true
   },
   "outputs": [],
   "source": []
  },
  {
   "cell_type": "markdown",
   "id": "8def265f",
   "metadata": {},
   "source": [
    "## 0.2. Loading Data"
   ]
  },
  {
   "cell_type": "markdown",
   "id": "63f16d47",
   "metadata": {
    "ExecuteTime": {
     "end_time": "2021-12-29T20:32:19.647204Z",
     "start_time": "2021-12-29T20:32:19.518296Z"
    }
   },
   "source": [
    "!cd  && forfiles"
   ]
  },
  {
   "cell_type": "code",
   "execution_count": 3,
   "id": "32284a37",
   "metadata": {
    "ExecuteTime": {
     "end_time": "2021-12-29T22:24:15.303037Z",
     "start_time": "2021-12-29T22:24:13.375041Z"
    }
   },
   "outputs": [],
   "source": [
    "df_sales_raw = pd.read_csv('../../data/train.csv', low_memory=False)\n",
    "df_store_raw = pd.read_csv('../../data/store.csv')\n",
    "\n",
    "# merging --> key column = Store\n",
    "df_raw = df_sales_raw.merge(df_store_raw, on='Store')"
   ]
  },
  {
   "cell_type": "markdown",
   "id": "e5d2b194",
   "metadata": {},
   "source": [
    "# 1.0. DATA DESCRIPTION"
   ]
  },
  {
   "cell_type": "code",
   "execution_count": 4,
   "id": "9ae681df",
   "metadata": {
    "ExecuteTime": {
     "end_time": "2021-12-29T22:24:16.610510Z",
     "start_time": "2021-12-29T22:24:16.363652Z"
    }
   },
   "outputs": [],
   "source": [
    "df01 = df_raw.copy()"
   ]
  },
  {
   "cell_type": "markdown",
   "id": "f15e990e",
   "metadata": {
    "ExecuteTime": {
     "end_time": "2021-12-29T20:33:28.747283Z",
     "start_time": "2021-12-29T20:33:27.759990Z"
    }
   },
   "source": [
    "## 1.1. Rename Columns"
   ]
  },
  {
   "cell_type": "code",
   "execution_count": 5,
   "id": "737a7243",
   "metadata": {
    "ExecuteTime": {
     "end_time": "2021-12-29T22:24:18.189545Z",
     "start_time": "2021-12-29T22:24:18.181548Z"
    }
   },
   "outputs": [],
   "source": [
    "# lower and separating by _\n",
    "df01.columns = df_raw.columns.to_series().apply(lambda x: underscore(x))"
   ]
  },
  {
   "cell_type": "markdown",
   "id": "b8cc586b",
   "metadata": {
    "ExecuteTime": {
     "end_time": "2021-12-29T20:33:28.747283Z",
     "start_time": "2021-12-29T20:33:27.759990Z"
    }
   },
   "source": [
    "## 1.2. Data Dimensions"
   ]
  },
  {
   "cell_type": "code",
   "execution_count": 6,
   "id": "a3064fe8",
   "metadata": {
    "ExecuteTime": {
     "end_time": "2021-12-29T22:24:20.021287Z",
     "start_time": "2021-12-29T22:24:20.003298Z"
    }
   },
   "outputs": [
    {
     "name": "stdout",
     "output_type": "stream",
     "text": [
      "Number of Rows: 1017209\n",
      "Number of Columns: 18\n"
     ]
    }
   ],
   "source": [
    "print(f'Number of Rows: {df01.shape[0]}')\n",
    "print(f'Number of Columns: {df01.shape[1]}')"
   ]
  },
  {
   "cell_type": "markdown",
   "id": "1ed49e73",
   "metadata": {
    "ExecuteTime": {
     "end_time": "2021-12-29T20:33:28.747283Z",
     "start_time": "2021-12-29T20:33:27.759990Z"
    }
   },
   "source": [
    "## 1.3. Data Types"
   ]
  },
  {
   "cell_type": "code",
   "execution_count": 7,
   "id": "9e9819ee",
   "metadata": {
    "ExecuteTime": {
     "end_time": "2021-12-29T22:24:21.786433Z",
     "start_time": "2021-12-29T22:24:21.675598Z"
    }
   },
   "outputs": [
    {
     "data": {
      "text/html": [
       "<div>\n",
       "<style scoped>\n",
       "    .dataframe tbody tr th:only-of-type {\n",
       "        vertical-align: middle;\n",
       "    }\n",
       "\n",
       "    .dataframe tbody tr th {\n",
       "        vertical-align: top;\n",
       "    }\n",
       "\n",
       "    .dataframe thead th {\n",
       "        text-align: right;\n",
       "    }\n",
       "</style>\n",
       "<table border=\"1\" class=\"dataframe\">\n",
       "  <thead>\n",
       "    <tr style=\"text-align: right;\">\n",
       "      <th></th>\n",
       "      <th>store</th>\n",
       "      <th>day_of_week</th>\n",
       "      <th>date</th>\n",
       "      <th>sales</th>\n",
       "      <th>customers</th>\n",
       "      <th>open</th>\n",
       "      <th>promo</th>\n",
       "      <th>state_holiday</th>\n",
       "      <th>school_holiday</th>\n",
       "      <th>store_type</th>\n",
       "      <th>assortment</th>\n",
       "      <th>competition_distance</th>\n",
       "      <th>competition_open_since_month</th>\n",
       "      <th>competition_open_since_year</th>\n",
       "      <th>promo2</th>\n",
       "      <th>promo2_since_week</th>\n",
       "      <th>promo2_since_year</th>\n",
       "      <th>promo_interval</th>\n",
       "    </tr>\n",
       "  </thead>\n",
       "  <tbody>\n",
       "    <tr>\n",
       "      <th>801193</th>\n",
       "      <td>879</td>\n",
       "      <td>1</td>\n",
       "      <td>2013-11-25</td>\n",
       "      <td>2732</td>\n",
       "      <td>301</td>\n",
       "      <td>1</td>\n",
       "      <td>0</td>\n",
       "      <td>0</td>\n",
       "      <td>0</td>\n",
       "      <td>d</td>\n",
       "      <td>a</td>\n",
       "      <td>NaN</td>\n",
       "      <td>NaN</td>\n",
       "      <td>NaN</td>\n",
       "      <td>1</td>\n",
       "      <td>5.0</td>\n",
       "      <td>2013.0</td>\n",
       "      <td>Feb,May,Aug,Nov</td>\n",
       "    </tr>\n",
       "    <tr>\n",
       "      <th>153472</th>\n",
       "      <td>170</td>\n",
       "      <td>4</td>\n",
       "      <td>2015-02-19</td>\n",
       "      <td>5925</td>\n",
       "      <td>594</td>\n",
       "      <td>1</td>\n",
       "      <td>1</td>\n",
       "      <td>0</td>\n",
       "      <td>0</td>\n",
       "      <td>a</td>\n",
       "      <td>a</td>\n",
       "      <td>1070.0</td>\n",
       "      <td>5.0</td>\n",
       "      <td>2015.0</td>\n",
       "      <td>1</td>\n",
       "      <td>14.0</td>\n",
       "      <td>2011.0</td>\n",
       "      <td>Jan,Apr,Jul,Oct</td>\n",
       "    </tr>\n",
       "    <tr>\n",
       "      <th>691800</th>\n",
       "      <td>760</td>\n",
       "      <td>2</td>\n",
       "      <td>2014-07-22</td>\n",
       "      <td>7045</td>\n",
       "      <td>1281</td>\n",
       "      <td>1</td>\n",
       "      <td>0</td>\n",
       "      <td>0</td>\n",
       "      <td>1</td>\n",
       "      <td>a</td>\n",
       "      <td>a</td>\n",
       "      <td>560.0</td>\n",
       "      <td>1.0</td>\n",
       "      <td>2011.0</td>\n",
       "      <td>0</td>\n",
       "      <td>NaN</td>\n",
       "      <td>NaN</td>\n",
       "      <td>NaN</td>\n",
       "    </tr>\n",
       "  </tbody>\n",
       "</table>\n",
       "</div>"
      ],
      "text/plain": [
       "        store  day_of_week        date  sales  customers  open  promo  \\\n",
       "801193    879            1  2013-11-25   2732        301     1      0   \n",
       "153472    170            4  2015-02-19   5925        594     1      1   \n",
       "691800    760            2  2014-07-22   7045       1281     1      0   \n",
       "\n",
       "       state_holiday  school_holiday store_type assortment  \\\n",
       "801193             0               0          d          a   \n",
       "153472             0               0          a          a   \n",
       "691800             0               1          a          a   \n",
       "\n",
       "        competition_distance  competition_open_since_month  \\\n",
       "801193                   NaN                           NaN   \n",
       "153472                1070.0                           5.0   \n",
       "691800                 560.0                           1.0   \n",
       "\n",
       "        competition_open_since_year  promo2  promo2_since_week  \\\n",
       "801193                          NaN       1                5.0   \n",
       "153472                       2015.0       1               14.0   \n",
       "691800                       2011.0       0                NaN   \n",
       "\n",
       "        promo2_since_year   promo_interval  \n",
       "801193             2013.0  Feb,May,Aug,Nov  \n",
       "153472             2011.0  Jan,Apr,Jul,Oct  \n",
       "691800                NaN              NaN  "
      ]
     },
     "execution_count": 7,
     "metadata": {},
     "output_type": "execute_result"
    }
   ],
   "source": [
    "df01.sample(3)"
   ]
  },
  {
   "cell_type": "code",
   "execution_count": 8,
   "id": "7b304265",
   "metadata": {
    "ExecuteTime": {
     "end_time": "2021-12-29T22:24:23.284275Z",
     "start_time": "2021-12-29T22:24:23.267283Z"
    }
   },
   "outputs": [
    {
     "data": {
      "text/plain": [
       "store                             int64\n",
       "day_of_week                       int64\n",
       "date                             object\n",
       "sales                             int64\n",
       "customers                         int64\n",
       "open                              int64\n",
       "promo                             int64\n",
       "state_holiday                    object\n",
       "school_holiday                    int64\n",
       "store_type                       object\n",
       "assortment                       object\n",
       "competition_distance            float64\n",
       "competition_open_since_month    float64\n",
       "competition_open_since_year     float64\n",
       "promo2                            int64\n",
       "promo2_since_week               float64\n",
       "promo2_since_year               float64\n",
       "promo_interval                   object\n",
       "dtype: object"
      ]
     },
     "execution_count": 8,
     "metadata": {},
     "output_type": "execute_result"
    }
   ],
   "source": [
    "df01.dtypes"
   ]
  },
  {
   "cell_type": "code",
   "execution_count": 9,
   "id": "cc81bafd",
   "metadata": {
    "ExecuteTime": {
     "end_time": "2021-12-29T22:24:26.065635Z",
     "start_time": "2021-12-29T22:24:25.420272Z"
    }
   },
   "outputs": [],
   "source": [
    "df01['date'] = pd.to_datetime(df01['date'])"
   ]
  },
  {
   "cell_type": "markdown",
   "id": "fe6dd452",
   "metadata": {
    "ExecuteTime": {
     "end_time": "2021-12-29T20:33:28.747283Z",
     "start_time": "2021-12-29T20:33:27.759990Z"
    }
   },
   "source": [
    "## 1.4. Check NA"
   ]
  },
  {
   "cell_type": "code",
   "execution_count": 65,
   "id": "13dbc51f",
   "metadata": {
    "ExecuteTime": {
     "end_time": "2021-12-29T22:54:53.994459Z",
     "start_time": "2021-12-29T22:54:53.609897Z"
    }
   },
   "outputs": [
    {
     "data": {
      "text/plain": [
       "store                           0\n",
       "day_of_week                     0\n",
       "date                            0\n",
       "sales                           0\n",
       "customers                       0\n",
       "open                            0\n",
       "promo                           0\n",
       "state_holiday                   0\n",
       "school_holiday                  0\n",
       "store_type                      0\n",
       "assortment                      0\n",
       "competition_distance            0\n",
       "competition_open_since_month    0\n",
       "competition_open_since_year     0\n",
       "promo2                          0\n",
       "promo2_since_week               0\n",
       "promo2_since_year               0\n",
       "promo_interval                  0\n",
       "sale_month                      0\n",
       "is_promo                        0\n",
       "dtype: int64"
      ]
     },
     "execution_count": 65,
     "metadata": {},
     "output_type": "execute_result"
    }
   ],
   "source": [
    "df01.isna().sum()"
   ]
  },
  {
   "cell_type": "markdown",
   "id": "22d71ff5",
   "metadata": {
    "ExecuteTime": {
     "end_time": "2021-12-29T20:33:28.747283Z",
     "start_time": "2021-12-29T20:33:27.759990Z"
    }
   },
   "source": [
    "## 1.5. Fillout NA's"
   ]
  },
  {
   "cell_type": "code",
   "execution_count": 50,
   "id": "566d6b12",
   "metadata": {
    "ExecuteTime": {
     "end_time": "2021-12-29T22:43:07.617504Z",
     "start_time": "2021-12-29T22:42:26.538898Z"
    }
   },
   "outputs": [
    {
     "name": "stderr",
     "output_type": "stream",
     "text": [
      "C:\\Users\\Miguel\\AppData\\Local\\Temp/ipykernel_12880/3545456638.py:18: FutureWarning: Series.dt.weekofyear and Series.dt.week have been deprecated.  Please use Series.dt.isocalendar().week instead.\n",
      "  df01['promo2_since_week'].fillna(df01.loc[df01['promo2_since_week'].isna(),\n"
     ]
    }
   ],
   "source": [
    "#competition_distance --> fill with a really big distante --> implies --> no competition\n",
    "df01['competition_distance'].fillna(max(df01['competition_distance']) * 3,\n",
    "                                    inplace=True)\n",
    "\n",
    "#### The next 4 \"since\" attributes --> Filling the respective label ( month, year) of the sale date\n",
    "#### Because if since month = sale month --> the difference will be 0\n",
    "#competition_open_since_month --> fill with the month of the sale\n",
    "df01['competition_open_since_month'].fillna(\n",
    "    df01.loc[df01['competition_open_since_month'].isna(), 'date'].dt.month,\n",
    "    inplace=True)\n",
    "\n",
    "#competition_open_since_year --> fill with the year of the sale\n",
    "df01['competition_open_since_year'].fillna(\n",
    "    df01.loc[df01['competition_open_since_year'].isna(), 'date'].dt.year,\n",
    "    inplace=True)\n",
    "\n",
    "#promo2_since_week --> fill with the week of the sale\n",
    "df01['promo2_since_week'].fillna(df01.loc[df01['promo2_since_week'].isna(),\n",
    "                                          'date'].dt.isocalendar().week,\n",
    "                                 inplace=True)\n",
    "\n",
    "#promo2_since_year --> fill with the year of the sale\n",
    "df01['promo2_since_year'].fillna(df01.loc[df01['promo2_since_year'].isna(),\n",
    "                                          'date'].dt.year,\n",
    "                                 inplace=True)\n",
    "\n",
    "#promo_interval\n",
    "df01['promo_interval'] = df01['promo_interval'].str.replace(\n",
    "    'Sept', 'Sep')  # en_US format\n",
    "df01['promo_interval'].fillna(0, inplace=True)  # there's no promo_interval\n",
    "\n",
    "#df01['sale_month'] = df01['date'].dt.strftime('%b') --> deletar\n",
    "# creating a column to know if the sale is in a promo month\n",
    "df01['is_promo'] = df01[['promo_interval','date']].apply(\n",
    "    lambda x: 0 if x['promo_interval'] == 0 else 1\n",
    "    if x['date'].dt.strftime('%b') in x['promo_interval'] else 0,\n",
    "    axis=1)"
   ]
  },
  {
   "cell_type": "markdown",
   "id": "1dbed7f4",
   "metadata": {
    "ExecuteTime": {
     "end_time": "2021-12-29T20:33:28.747283Z",
     "start_time": "2021-12-29T20:33:27.759990Z"
    }
   },
   "source": [
    "## 1.6. Verifying Types"
   ]
  },
  {
   "cell_type": "code",
   "execution_count": 64,
   "id": "0270b1b4",
   "metadata": {
    "ExecuteTime": {
     "end_time": "2021-12-29T22:53:51.063406Z",
     "start_time": "2021-12-29T22:53:51.043419Z"
    }
   },
   "outputs": [
    {
     "data": {
      "text/plain": [
       "store                                    int64\n",
       "day_of_week                              int64\n",
       "date                            datetime64[ns]\n",
       "sales                                    int64\n",
       "customers                                int64\n",
       "open                                     int64\n",
       "promo                                    int64\n",
       "state_holiday                           object\n",
       "school_holiday                           int64\n",
       "store_type                              object\n",
       "assortment                              object\n",
       "competition_distance                   float64\n",
       "competition_open_since_month             int64\n",
       "competition_open_since_year              int64\n",
       "promo2                                   int64\n",
       "promo2_since_week                        int64\n",
       "promo2_since_year                        int64\n",
       "promo_interval                          object\n",
       "sale_month                              object\n",
       "is_promo                                 int64\n",
       "dtype: object"
      ]
     },
     "execution_count": 64,
     "metadata": {},
     "output_type": "execute_result"
    }
   ],
   "source": [
    "df01.dtypes"
   ]
  },
  {
   "cell_type": "code",
   "execution_count": 63,
   "id": "fb77ed81",
   "metadata": {
    "ExecuteTime": {
     "end_time": "2021-12-29T22:53:34.948390Z",
     "start_time": "2021-12-29T22:53:34.874436Z"
    }
   },
   "outputs": [],
   "source": [
    "df01['competition_open_since_month'] = df01['competition_open_since_month'].astype('int64')\n",
    "df01['competition_open_since_year'] = df01['competition_open_since_year'].astype('int64')\n",
    "\n",
    "df01['promo2_since_week'] = df01['promo2_since_week'].astype('int64')\n",
    "df01['promo2_since_year'] = df01['promo2_since_year'].astype('int64')"
   ]
  },
  {
   "cell_type": "markdown",
   "id": "6e76c952",
   "metadata": {
    "ExecuteTime": {
     "end_time": "2021-12-29T20:33:28.747283Z",
     "start_time": "2021-12-29T20:33:27.759990Z"
    }
   },
   "source": [
    "## 1.7. Descriptive Statistics"
   ]
  },
  {
   "cell_type": "code",
   "execution_count": 72,
   "id": "b82fd285",
   "metadata": {
    "ExecuteTime": {
     "end_time": "2021-12-29T22:59:02.959294Z",
     "start_time": "2021-12-29T22:59:02.799741Z"
    }
   },
   "outputs": [],
   "source": [
    "num_attributes = df01.select_dtypes(include=['int64','float64'])\n",
    "cat_attributes = df01.select_dtypes(include=['object'])"
   ]
  },
  {
   "cell_type": "markdown",
   "id": "2a6ec571",
   "metadata": {
    "ExecuteTime": {
     "end_time": "2021-12-29T20:33:28.747283Z",
     "start_time": "2021-12-29T20:33:27.759990Z"
    }
   },
   "source": [
    "### 1.7.1. Numerical Attributes"
   ]
  },
  {
   "cell_type": "code",
   "execution_count": 94,
   "id": "7077fd8a",
   "metadata": {
    "ExecuteTime": {
     "end_time": "2021-12-29T23:15:58.549299Z",
     "start_time": "2021-12-29T23:15:52.078383Z"
    }
   },
   "outputs": [
    {
     "data": {
      "text/html": [
       "<div>\n",
       "<style scoped>\n",
       "    .dataframe tbody tr th:only-of-type {\n",
       "        vertical-align: middle;\n",
       "    }\n",
       "\n",
       "    .dataframe tbody tr th {\n",
       "        vertical-align: top;\n",
       "    }\n",
       "\n",
       "    .dataframe thead th {\n",
       "        text-align: right;\n",
       "    }\n",
       "</style>\n",
       "<table border=\"1\" class=\"dataframe\">\n",
       "  <thead>\n",
       "    <tr style=\"text-align: right;\">\n",
       "      <th></th>\n",
       "      <th>min</th>\n",
       "      <th>max</th>\n",
       "      <th>range</th>\n",
       "      <th>mean</th>\n",
       "      <th>median</th>\n",
       "      <th>std</th>\n",
       "      <th>skew</th>\n",
       "      <th>kurtosis</th>\n",
       "    </tr>\n",
       "  </thead>\n",
       "  <tbody>\n",
       "    <tr>\n",
       "      <th>store</th>\n",
       "      <td>1.0</td>\n",
       "      <td>1115.0</td>\n",
       "      <td>1114.0</td>\n",
       "      <td>558.429727</td>\n",
       "      <td>558.0</td>\n",
       "      <td>321.908493</td>\n",
       "      <td>-0.000955</td>\n",
       "      <td>-1.200524</td>\n",
       "    </tr>\n",
       "    <tr>\n",
       "      <th>day_of_week</th>\n",
       "      <td>1.0</td>\n",
       "      <td>7.0</td>\n",
       "      <td>6.0</td>\n",
       "      <td>3.998341</td>\n",
       "      <td>4.0</td>\n",
       "      <td>1.997390</td>\n",
       "      <td>0.001593</td>\n",
       "      <td>-1.246873</td>\n",
       "    </tr>\n",
       "    <tr>\n",
       "      <th>sales</th>\n",
       "      <td>0.0</td>\n",
       "      <td>41551.0</td>\n",
       "      <td>41551.0</td>\n",
       "      <td>5773.818972</td>\n",
       "      <td>5744.0</td>\n",
       "      <td>3849.924283</td>\n",
       "      <td>0.641460</td>\n",
       "      <td>1.778375</td>\n",
       "    </tr>\n",
       "    <tr>\n",
       "      <th>customers</th>\n",
       "      <td>0.0</td>\n",
       "      <td>7388.0</td>\n",
       "      <td>7388.0</td>\n",
       "      <td>633.145946</td>\n",
       "      <td>609.0</td>\n",
       "      <td>464.411506</td>\n",
       "      <td>1.598650</td>\n",
       "      <td>7.091773</td>\n",
       "    </tr>\n",
       "    <tr>\n",
       "      <th>open</th>\n",
       "      <td>0.0</td>\n",
       "      <td>1.0</td>\n",
       "      <td>1.0</td>\n",
       "      <td>0.830107</td>\n",
       "      <td>1.0</td>\n",
       "      <td>0.375539</td>\n",
       "      <td>-1.758045</td>\n",
       "      <td>1.090723</td>\n",
       "    </tr>\n",
       "    <tr>\n",
       "      <th>promo</th>\n",
       "      <td>0.0</td>\n",
       "      <td>1.0</td>\n",
       "      <td>1.0</td>\n",
       "      <td>0.381515</td>\n",
       "      <td>0.0</td>\n",
       "      <td>0.485758</td>\n",
       "      <td>0.487838</td>\n",
       "      <td>-1.762018</td>\n",
       "    </tr>\n",
       "    <tr>\n",
       "      <th>school_holiday</th>\n",
       "      <td>0.0</td>\n",
       "      <td>1.0</td>\n",
       "      <td>1.0</td>\n",
       "      <td>0.178647</td>\n",
       "      <td>0.0</td>\n",
       "      <td>0.383056</td>\n",
       "      <td>1.677842</td>\n",
       "      <td>0.815154</td>\n",
       "    </tr>\n",
       "    <tr>\n",
       "      <th>competition_distance</th>\n",
       "      <td>20.0</td>\n",
       "      <td>227580.0</td>\n",
       "      <td>227560.0</td>\n",
       "      <td>6007.076294</td>\n",
       "      <td>2330.0</td>\n",
       "      <td>13682.728423</td>\n",
       "      <td>11.512969</td>\n",
       "      <td>177.136255</td>\n",
       "    </tr>\n",
       "    <tr>\n",
       "      <th>competition_open_since_month</th>\n",
       "      <td>1.0</td>\n",
       "      <td>12.0</td>\n",
       "      <td>11.0</td>\n",
       "      <td>6.786849</td>\n",
       "      <td>7.0</td>\n",
       "      <td>3.311085</td>\n",
       "      <td>-0.042076</td>\n",
       "      <td>-1.232607</td>\n",
       "    </tr>\n",
       "    <tr>\n",
       "      <th>competition_open_since_year</th>\n",
       "      <td>1900.0</td>\n",
       "      <td>2015.0</td>\n",
       "      <td>115.0</td>\n",
       "      <td>2010.324840</td>\n",
       "      <td>2012.0</td>\n",
       "      <td>5.515591</td>\n",
       "      <td>-7.235657</td>\n",
       "      <td>124.071304</td>\n",
       "    </tr>\n",
       "    <tr>\n",
       "      <th>promo2</th>\n",
       "      <td>0.0</td>\n",
       "      <td>1.0</td>\n",
       "      <td>1.0</td>\n",
       "      <td>0.500564</td>\n",
       "      <td>1.0</td>\n",
       "      <td>0.500000</td>\n",
       "      <td>-0.002255</td>\n",
       "      <td>-1.999999</td>\n",
       "    </tr>\n",
       "    <tr>\n",
       "      <th>promo2_since_week</th>\n",
       "      <td>1.0</td>\n",
       "      <td>52.0</td>\n",
       "      <td>51.0</td>\n",
       "      <td>23.619033</td>\n",
       "      <td>22.0</td>\n",
       "      <td>14.310057</td>\n",
       "      <td>0.178723</td>\n",
       "      <td>-1.184046</td>\n",
       "    </tr>\n",
       "    <tr>\n",
       "      <th>promo2_since_year</th>\n",
       "      <td>2009.0</td>\n",
       "      <td>2015.0</td>\n",
       "      <td>6.0</td>\n",
       "      <td>2012.793297</td>\n",
       "      <td>2013.0</td>\n",
       "      <td>1.662657</td>\n",
       "      <td>-0.784436</td>\n",
       "      <td>-0.210075</td>\n",
       "    </tr>\n",
       "    <tr>\n",
       "      <th>is_promo</th>\n",
       "      <td>0.0</td>\n",
       "      <td>1.0</td>\n",
       "      <td>1.0</td>\n",
       "      <td>0.171835</td>\n",
       "      <td>0.0</td>\n",
       "      <td>0.377237</td>\n",
       "      <td>1.739838</td>\n",
       "      <td>1.027039</td>\n",
       "    </tr>\n",
       "  </tbody>\n",
       "</table>\n",
       "</div>"
      ],
      "text/plain": [
       "                                 min       max     range         mean  median  \\\n",
       "store                            1.0    1115.0    1114.0   558.429727   558.0   \n",
       "day_of_week                      1.0       7.0       6.0     3.998341     4.0   \n",
       "sales                            0.0   41551.0   41551.0  5773.818972  5744.0   \n",
       "customers                        0.0    7388.0    7388.0   633.145946   609.0   \n",
       "open                             0.0       1.0       1.0     0.830107     1.0   \n",
       "promo                            0.0       1.0       1.0     0.381515     0.0   \n",
       "school_holiday                   0.0       1.0       1.0     0.178647     0.0   \n",
       "competition_distance            20.0  227580.0  227560.0  6007.076294  2330.0   \n",
       "competition_open_since_month     1.0      12.0      11.0     6.786849     7.0   \n",
       "competition_open_since_year   1900.0    2015.0     115.0  2010.324840  2012.0   \n",
       "promo2                           0.0       1.0       1.0     0.500564     1.0   \n",
       "promo2_since_week                1.0      52.0      51.0    23.619033    22.0   \n",
       "promo2_since_year             2009.0    2015.0       6.0  2012.793297  2013.0   \n",
       "is_promo                         0.0       1.0       1.0     0.171835     0.0   \n",
       "\n",
       "                                       std       skew    kurtosis  \n",
       "store                           321.908493  -0.000955   -1.200524  \n",
       "day_of_week                       1.997390   0.001593   -1.246873  \n",
       "sales                          3849.924283   0.641460    1.778375  \n",
       "customers                       464.411506   1.598650    7.091773  \n",
       "open                              0.375539  -1.758045    1.090723  \n",
       "promo                             0.485758   0.487838   -1.762018  \n",
       "school_holiday                    0.383056   1.677842    0.815154  \n",
       "competition_distance          13682.728423  11.512969  177.136255  \n",
       "competition_open_since_month      3.311085  -0.042076   -1.232607  \n",
       "competition_open_since_year       5.515591  -7.235657  124.071304  \n",
       "promo2                            0.500000  -0.002255   -1.999999  \n",
       "promo2_since_week                14.310057   0.178723   -1.184046  \n",
       "promo2_since_year                 1.662657  -0.784436   -0.210075  \n",
       "is_promo                          0.377237   1.739838    1.027039  "
      ]
     },
     "execution_count": 94,
     "metadata": {},
     "output_type": "execute_result"
    }
   ],
   "source": [
    "m1 = pd.DataFrame()\n",
    "# Central tendency - mean, median\n",
    "m1['mean'] = num_attributes.apply(np.mean)\n",
    "m1['median'] =  num_attributes.apply(np.median)\n",
    "# Dispersion - str, min, max, range, skew, kurtosis\n",
    "m1['std'] = num_attributes.apply(np.std)\n",
    "m1['min'] = num_attributes.apply(min)\n",
    "m1['max'] = num_attributes.apply(max)\n",
    "m1['range'] = num_attributes.apply(lambda x: x.max() - x.min())\n",
    "m1['skew'] = num_attributes.apply(lambda x: x.skew())\n",
    "m1['kurtosis'] = num_attributes.apply(lambda x: x.kurtosis())\n",
    "\n",
    "# just realocating columns\n",
    "metrics = m1[['min', 'max', 'range', 'mean', 'median', 'std', 'skew', 'kurtosis']]\n",
    "metrics"
   ]
  },
  {
   "cell_type": "code",
   "execution_count": 93,
   "id": "176b95a8",
   "metadata": {
    "ExecuteTime": {
     "end_time": "2021-12-29T23:14:33.250143Z",
     "start_time": "2021-12-29T23:14:19.617776Z"
    }
   },
   "outputs": [
    {
     "name": "stderr",
     "output_type": "stream",
     "text": [
      "C:\\Users\\Miguel\\anaconda3\\envs\\dsemproducao_venv\\lib\\site-packages\\seaborn\\distributions.py:2619: FutureWarning: `distplot` is a deprecated function and will be removed in a future version. Please adapt your code to use either `displot` (a figure-level function with similar flexibility) or `histplot` (an axes-level function for histograms).\n",
      "  warnings.warn(msg, FutureWarning)\n"
     ]
    },
    {
     "data": {
      "text/plain": [
       "<AxesSubplot:xlabel='sales', ylabel='Density'>"
      ]
     },
     "execution_count": 93,
     "metadata": {},
     "output_type": "execute_result"
    },
    {
     "data": {
      "image/png": "[encoded data removed]",
      "text/plain": [
       "<Figure size 432x288 with 1 Axes>"
      ]
     },
     "metadata": {
      "needs_background": "light"
     },
     "output_type": "display_data"
    }
   ],
   "source": [
    "sns.distplot(df01['sales'])"
   ]
  },
  {
   "cell_type": "markdown",
   "id": "aacfc46a",
   "metadata": {
    "ExecuteTime": {
     "end_time": "2021-12-29T20:33:28.747283Z",
     "start_time": "2021-12-29T20:33:27.759990Z"
    }
   },
   "source": [
    "### 1.7.1. Categorical Attributes"
   ]
  },
  {
   "cell_type": "code",
   "execution_count": 98,
   "id": "9df817ca",
   "metadata": {
    "ExecuteTime": {
     "end_time": "2021-12-29T23:17:28.182521Z",
     "start_time": "2021-12-29T23:17:27.886267Z"
    }
   },
   "outputs": [
    {
     "data": {
      "text/plain": [
       "state_holiday      4\n",
       "store_type         4\n",
       "assortment         3\n",
       "promo_interval     4\n",
       "sale_month        12\n",
       "dtype: int64"
      ]
     },
     "execution_count": 98,
     "metadata": {},
     "output_type": "execute_result"
    }
   ],
   "source": [
    "cat_attributes.apply(lambda x: x.unique().shape[0])"
   ]
  },
  {
   "cell_type": "code",
   "execution_count": 115,
   "id": "d8b84f9d",
   "metadata": {
    "ExecuteTime": {
     "end_time": "2021-12-29T23:26:07.032986Z",
     "start_time": "2021-12-29T23:26:04.628960Z"
    }
   },
   "outputs": [
    {
     "data": {
      "text/plain": [
       "<AxesSubplot:xlabel='assortment', ylabel='sales'>"
      ]
     },
     "execution_count": 115,
     "metadata": {},
     "output_type": "execute_result"
    },
    {
     "data": {
      "image/png": "[encoded data removed]",
      "text/plain": [
       "<Figure size 432x288 with 3 Axes>"
      ]
     },
     "metadata": {
      "needs_background": "light"
     },
     "output_type": "display_data"
    }
   ],
   "source": [
    "aux1 = df01.loc[(df01['state_holiday'] != 0) & (df01['sales'] >0)]\n",
    "\n",
    "plt.subplot(1,3,1)\n",
    "sns.boxplot(x='state_holiday', y='sales', data=aux1)\n",
    "\n",
    "plt.subplot(1,3,2)\n",
    "sns.boxplot(x='store_type', y='sales', data=aux1)\n",
    "\n",
    "plt.subplot(1,3,3)\n",
    "sns.boxplot(x='assortment', y='sales', data=aux1)"
   ]
  }
 ],
 "metadata": {
  "kernelspec": {
   "display_name": "Python 3 (ipykernel)",
   "language": "python",
   "name": "python3"
  },
  "language_info": {
   "codemirror_mode": {
    "name": "ipython",
    "version": 3
   },
   "file_extension": ".py",
   "mimetype": "text/x-python",
   "name": "python",
   "nbconvert_exporter": "python",
   "pygments_lexer": "ipython3",
   "version": "3.8.12"
  },
  "varInspector": {
   "cols": {
    "lenName": 16,
    "lenType": 16,
    "lenVar": 40
   },
   "kernels_config": {
    "python": {
     "delete_cmd_postfix": "",
     "delete_cmd_prefix": "del ",
     "library": "var_list.py",
     "varRefreshCmd": "print(var_dic_list())"
    },
    "r": {
     "delete_cmd_postfix": ") ",
     "delete_cmd_prefix": "rm(",
     "library": "var_list.r",
     "varRefreshCmd": "cat(var_dic_list()) "
    }
   },
   "types_to_exclude": [
    "module",
    "function",
    "builtin_function_or_method",
    "instance",
    "_Feature"
   ],
   "window_display": false
  }
 },
 "nbformat": 4,
 "nbformat_minor": 5
}
