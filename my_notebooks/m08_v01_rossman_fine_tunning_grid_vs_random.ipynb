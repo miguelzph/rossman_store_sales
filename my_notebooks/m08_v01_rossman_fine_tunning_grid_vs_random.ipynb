{
 "cells": [
  {
   "cell_type": "markdown",
   "id": "568c780b",
   "metadata": {},
   "source": [
    "# 0.0. Imports"
   ]
  },
  {
   "cell_type": "markdown",
   "id": "086dec05",
   "metadata": {},
   "source": [
    "## 0.1. Imports"
   ]
  },
  {
   "cell_type": "code",
   "execution_count": 47,
   "id": "cab5ac42",
   "metadata": {
    "ExecuteTime": {
     "end_time": "2022-01-31T15:07:52.613742Z",
     "start_time": "2022-01-31T15:07:52.595752Z"
    }
   },
   "outputs": [],
   "source": [
    "import requests\n",
    "import pandas as pd\n",
    "import re"
   ]
  },
  {
   "cell_type": "markdown",
   "id": "3cf6632e",
   "metadata": {},
   "source": [
    "# 0.2. Helper Functions"
   ]
  },
  {
   "cell_type": "code",
   "execution_count": 71,
   "id": "36763563",
   "metadata": {
    "ExecuteTime": {
     "end_time": "2022-01-31T15:13:58.506136Z",
     "start_time": "2022-01-31T15:13:58.487148Z"
    }
   },
   "outputs": [],
   "source": [
    "def create_mape_rmse_columns(df):\n",
    "    # Only runned's\n",
    "    df = df[df['runned'] == 1]\n",
    "    # Transform columns in a number\n",
    "    df['mean_MAE'] = df['MAE'].apply(lambda x: float(re.match('(.*) \\+/- (.*)', x).group(1)))\n",
    "    df['std_MAE'] = df['MAE'].apply(lambda x: float(re.match('(.*) \\+/- (.*)', x).group(2)))\n",
    "\n",
    "    df['mean_RMSE'] = df['RMSE'].apply(lambda x: float(re.match('(.*) \\+/- (.*)', x).group(1)))\n",
    "    df['std_RMSE'] = df['RMSE'].apply(lambda x: float(re.match('(.*) \\+/- (.*)', x).group(2)))\n",
    "    \n",
    "    return df\n",
    "\n",
    "def display_errors_by_parameters(df, list_of_parameters):\n",
    "    # printing \n",
    "    for column in list_of_parameters:\n",
    "        display(df[[column, 'mean_MAE', 'std_MAE', 'mean_RMSE', 'std_RMSE']].groupby(column).mean())\n",
    "    \n",
    "    return None"
   ]
  },
  {
   "cell_type": "markdown",
   "id": "771314ab",
   "metadata": {},
   "source": [
    "#  1.0. GETTING DATA"
   ]
  },
  {
   "cell_type": "code",
   "execution_count": 53,
   "id": "cfc8fa8c",
   "metadata": {
    "ExecuteTime": {
     "end_time": "2022-01-31T15:08:27.839766Z",
     "start_time": "2022-01-31T15:08:27.835768Z"
    }
   },
   "outputs": [],
   "source": [
    "response = requests.get('https://xgboostfinetuning.miguelzaq.repl.co/data')\n",
    "file_json = response.json()\n",
    "data = pd.DataFrame(file_json)\n",
    "# save for future use\n",
    "data.to_csv('../data_params/outcome_random.csv')\n",
    "\n",
    "# if API -- offilne \n",
    "#data = pd.read_csv('../data_params/outcome_random.csv')"
   ]
  },
  {
   "cell_type": "markdown",
   "id": "fb4698ae",
   "metadata": {},
   "source": [
    "# 2.0. PARAMS"
   ]
  },
  {
   "cell_type": "code",
   "execution_count": 60,
   "id": "4ef1de27",
   "metadata": {
    "ExecuteTime": {
     "end_time": "2022-01-31T15:08:55.813364Z",
     "start_time": "2022-01-31T15:08:55.802368Z"
    }
   },
   "outputs": [],
   "source": [
    "param = {\n",
    "    'n_estimatores': [800, 1300, 2100],\n",
    "    'learning_rate': [0.03, 0.05, 0.08], \n",
    "    'max_depth': [3, 6, 9],\n",
    "    'subsample': [0.5, 0.75, 1],  \n",
    "    'colsample_bytee': [0.5, 0.75, 1],\n",
    "    'colsample_bynode': [0.5, 0.75, 1],\n",
    "    'min_child_weight': [1, 3, 5]\n",
    "}"
   ]
  },
  {
   "cell_type": "markdown",
   "id": "6df77512",
   "metadata": {},
   "source": [
    "## 2.1. FIRST ROUND"
   ]
  },
  {
   "cell_type": "code",
   "execution_count": 61,
   "id": "503a8912",
   "metadata": {
    "ExecuteTime": {
     "end_time": "2022-01-31T15:08:56.624404Z",
     "start_time": "2022-01-31T15:08:56.610409Z"
    }
   },
   "outputs": [],
   "source": [
    "df00 = data.copy()"
   ]
  },
  {
   "cell_type": "code",
   "execution_count": 72,
   "id": "cbf32820",
   "metadata": {
    "ExecuteTime": {
     "end_time": "2022-01-31T15:14:04.336805Z",
     "start_time": "2022-01-31T15:14:04.144915Z"
    }
   },
   "outputs": [
    {
     "data": {
      "text/html": [
       "<div>\n",
       "<style scoped>\n",
       "    .dataframe tbody tr th:only-of-type {\n",
       "        vertical-align: middle;\n",
       "    }\n",
       "\n",
       "    .dataframe tbody tr th {\n",
       "        vertical-align: top;\n",
       "    }\n",
       "\n",
       "    .dataframe thead th {\n",
       "        text-align: right;\n",
       "    }\n",
       "</style>\n",
       "<table border=\"1\" class=\"dataframe\">\n",
       "  <thead>\n",
       "    <tr style=\"text-align: right;\">\n",
       "      <th></th>\n",
       "      <th>mean_MAE</th>\n",
       "      <th>std_MAE</th>\n",
       "      <th>mean_RMSE</th>\n",
       "      <th>std_RMSE</th>\n",
       "    </tr>\n",
       "    <tr>\n",
       "      <th>n_estimatores</th>\n",
       "      <th></th>\n",
       "      <th></th>\n",
       "      <th></th>\n",
       "      <th></th>\n",
       "    </tr>\n",
       "  </thead>\n",
       "  <tbody>\n",
       "    <tr>\n",
       "      <th>800</th>\n",
       "      <td>1437.851111</td>\n",
       "      <td>225.047778</td>\n",
       "      <td>2086.146667</td>\n",
       "      <td>320.805556</td>\n",
       "    </tr>\n",
       "    <tr>\n",
       "      <th>1300</th>\n",
       "      <td>1484.010000</td>\n",
       "      <td>232.396818</td>\n",
       "      <td>2151.906364</td>\n",
       "      <td>325.942273</td>\n",
       "    </tr>\n",
       "    <tr>\n",
       "      <th>2100</th>\n",
       "      <td>1430.903684</td>\n",
       "      <td>227.432632</td>\n",
       "      <td>2074.985263</td>\n",
       "      <td>319.084211</td>\n",
       "    </tr>\n",
       "  </tbody>\n",
       "</table>\n",
       "</div>"
      ],
      "text/plain": [
       "                  mean_MAE     std_MAE    mean_RMSE    std_RMSE\n",
       "n_estimatores                                                  \n",
       "800            1437.851111  225.047778  2086.146667  320.805556\n",
       "1300           1484.010000  232.396818  2151.906364  325.942273\n",
       "2100           1430.903684  227.432632  2074.985263  319.084211"
      ]
     },
     "metadata": {},
     "output_type": "display_data"
    },
    {
     "data": {
      "text/html": [
       "<div>\n",
       "<style scoped>\n",
       "    .dataframe tbody tr th:only-of-type {\n",
       "        vertical-align: middle;\n",
       "    }\n",
       "\n",
       "    .dataframe tbody tr th {\n",
       "        vertical-align: top;\n",
       "    }\n",
       "\n",
       "    .dataframe thead th {\n",
       "        text-align: right;\n",
       "    }\n",
       "</style>\n",
       "<table border=\"1\" class=\"dataframe\">\n",
       "  <thead>\n",
       "    <tr style=\"text-align: right;\">\n",
       "      <th></th>\n",
       "      <th>mean_MAE</th>\n",
       "      <th>std_MAE</th>\n",
       "      <th>mean_RMSE</th>\n",
       "      <th>std_RMSE</th>\n",
       "    </tr>\n",
       "    <tr>\n",
       "      <th>learning_rate</th>\n",
       "      <th></th>\n",
       "      <th></th>\n",
       "      <th></th>\n",
       "      <th></th>\n",
       "    </tr>\n",
       "  </thead>\n",
       "  <tbody>\n",
       "    <tr>\n",
       "      <th>0.05</th>\n",
       "      <td>1518.794375</td>\n",
       "      <td>250.901250</td>\n",
       "      <td>2212.778125</td>\n",
       "      <td>356.705000</td>\n",
       "    </tr>\n",
       "    <tr>\n",
       "      <th>0.08</th>\n",
       "      <td>1425.745294</td>\n",
       "      <td>218.969412</td>\n",
       "      <td>2062.868529</td>\n",
       "      <td>306.273529</td>\n",
       "    </tr>\n",
       "  </tbody>\n",
       "</table>\n",
       "</div>"
      ],
      "text/plain": [
       "                  mean_MAE     std_MAE    mean_RMSE    std_RMSE\n",
       "learning_rate                                                  \n",
       "0.05           1518.794375  250.901250  2212.778125  356.705000\n",
       "0.08           1425.745294  218.969412  2062.868529  306.273529"
      ]
     },
     "metadata": {},
     "output_type": "display_data"
    },
    {
     "data": {
      "text/html": [
       "<div>\n",
       "<style scoped>\n",
       "    .dataframe tbody tr th:only-of-type {\n",
       "        vertical-align: middle;\n",
       "    }\n",
       "\n",
       "    .dataframe tbody tr th {\n",
       "        vertical-align: top;\n",
       "    }\n",
       "\n",
       "    .dataframe thead th {\n",
       "        text-align: right;\n",
       "    }\n",
       "</style>\n",
       "<table border=\"1\" class=\"dataframe\">\n",
       "  <thead>\n",
       "    <tr style=\"text-align: right;\">\n",
       "      <th></th>\n",
       "      <th>mean_MAE</th>\n",
       "      <th>std_MAE</th>\n",
       "      <th>mean_RMSE</th>\n",
       "      <th>std_RMSE</th>\n",
       "    </tr>\n",
       "    <tr>\n",
       "      <th>max_depth</th>\n",
       "      <th></th>\n",
       "      <th></th>\n",
       "      <th></th>\n",
       "      <th></th>\n",
       "    </tr>\n",
       "  </thead>\n",
       "  <tbody>\n",
       "    <tr>\n",
       "      <th>6</th>\n",
       "      <td>1579.215789</td>\n",
       "      <td>223.707368</td>\n",
       "      <td>2281.924211</td>\n",
       "      <td>307.075789</td>\n",
       "    </tr>\n",
       "    <tr>\n",
       "      <th>9</th>\n",
       "      <td>1379.708065</td>\n",
       "      <td>232.546452</td>\n",
       "      <td>2005.981290</td>\n",
       "      <td>331.810968</td>\n",
       "    </tr>\n",
       "  </tbody>\n",
       "</table>\n",
       "</div>"
      ],
      "text/plain": [
       "              mean_MAE     std_MAE    mean_RMSE    std_RMSE\n",
       "max_depth                                                  \n",
       "6          1579.215789  223.707368  2281.924211  307.075789\n",
       "9          1379.708065  232.546452  2005.981290  331.810968"
      ]
     },
     "metadata": {},
     "output_type": "display_data"
    },
    {
     "data": {
      "text/html": [
       "<div>\n",
       "<style scoped>\n",
       "    .dataframe tbody tr th:only-of-type {\n",
       "        vertical-align: middle;\n",
       "    }\n",
       "\n",
       "    .dataframe tbody tr th {\n",
       "        vertical-align: top;\n",
       "    }\n",
       "\n",
       "    .dataframe thead th {\n",
       "        text-align: right;\n",
       "    }\n",
       "</style>\n",
       "<table border=\"1\" class=\"dataframe\">\n",
       "  <thead>\n",
       "    <tr style=\"text-align: right;\">\n",
       "      <th></th>\n",
       "      <th>mean_MAE</th>\n",
       "      <th>std_MAE</th>\n",
       "      <th>mean_RMSE</th>\n",
       "      <th>std_RMSE</th>\n",
       "    </tr>\n",
       "    <tr>\n",
       "      <th>subsample</th>\n",
       "      <th></th>\n",
       "      <th></th>\n",
       "      <th></th>\n",
       "      <th></th>\n",
       "    </tr>\n",
       "  </thead>\n",
       "  <tbody>\n",
       "    <tr>\n",
       "      <th>0.50</th>\n",
       "      <td>1448.286471</td>\n",
       "      <td>232.835882</td>\n",
       "      <td>2101.648824</td>\n",
       "      <td>329.453529</td>\n",
       "    </tr>\n",
       "    <tr>\n",
       "      <th>0.75</th>\n",
       "      <td>1431.061875</td>\n",
       "      <td>230.223750</td>\n",
       "      <td>2076.769375</td>\n",
       "      <td>328.710625</td>\n",
       "    </tr>\n",
       "    <tr>\n",
       "      <th>1.00</th>\n",
       "      <td>1485.775882</td>\n",
       "      <td>224.564118</td>\n",
       "      <td>2152.096471</td>\n",
       "      <td>309.441176</td>\n",
       "    </tr>\n",
       "  </tbody>\n",
       "</table>\n",
       "</div>"
      ],
      "text/plain": [
       "              mean_MAE     std_MAE    mean_RMSE    std_RMSE\n",
       "subsample                                                  \n",
       "0.50       1448.286471  232.835882  2101.648824  329.453529\n",
       "0.75       1431.061875  230.223750  2076.769375  328.710625\n",
       "1.00       1485.775882  224.564118  2152.096471  309.441176"
      ]
     },
     "metadata": {},
     "output_type": "display_data"
    },
    {
     "data": {
      "text/html": [
       "<div>\n",
       "<style scoped>\n",
       "    .dataframe tbody tr th:only-of-type {\n",
       "        vertical-align: middle;\n",
       "    }\n",
       "\n",
       "    .dataframe tbody tr th {\n",
       "        vertical-align: top;\n",
       "    }\n",
       "\n",
       "    .dataframe thead th {\n",
       "        text-align: right;\n",
       "    }\n",
       "</style>\n",
       "<table border=\"1\" class=\"dataframe\">\n",
       "  <thead>\n",
       "    <tr style=\"text-align: right;\">\n",
       "      <th></th>\n",
       "      <th>mean_MAE</th>\n",
       "      <th>std_MAE</th>\n",
       "      <th>mean_RMSE</th>\n",
       "      <th>std_RMSE</th>\n",
       "    </tr>\n",
       "    <tr>\n",
       "      <th>colsample_bytee</th>\n",
       "      <th></th>\n",
       "      <th></th>\n",
       "      <th></th>\n",
       "      <th></th>\n",
       "    </tr>\n",
       "  </thead>\n",
       "  <tbody>\n",
       "    <tr>\n",
       "      <th>0.50</th>\n",
       "      <td>1416.521250</td>\n",
       "      <td>226.372500</td>\n",
       "      <td>2051.575000</td>\n",
       "      <td>319.255625</td>\n",
       "    </tr>\n",
       "    <tr>\n",
       "      <th>0.75</th>\n",
       "      <td>1456.907778</td>\n",
       "      <td>231.912222</td>\n",
       "      <td>2114.421111</td>\n",
       "      <td>326.438333</td>\n",
       "    </tr>\n",
       "    <tr>\n",
       "      <th>1.00</th>\n",
       "      <td>1492.960625</td>\n",
       "      <td>228.937500</td>\n",
       "      <td>2166.075000</td>\n",
       "      <td>321.037500</td>\n",
       "    </tr>\n",
       "  </tbody>\n",
       "</table>\n",
       "</div>"
      ],
      "text/plain": [
       "                    mean_MAE     std_MAE    mean_RMSE    std_RMSE\n",
       "colsample_bytee                                                  \n",
       "0.50             1416.521250  226.372500  2051.575000  319.255625\n",
       "0.75             1456.907778  231.912222  2114.421111  326.438333\n",
       "1.00             1492.960625  228.937500  2166.075000  321.037500"
      ]
     },
     "metadata": {},
     "output_type": "display_data"
    },
    {
     "data": {
      "text/html": [
       "<div>\n",
       "<style scoped>\n",
       "    .dataframe tbody tr th:only-of-type {\n",
       "        vertical-align: middle;\n",
       "    }\n",
       "\n",
       "    .dataframe tbody tr th {\n",
       "        vertical-align: top;\n",
       "    }\n",
       "\n",
       "    .dataframe thead th {\n",
       "        text-align: right;\n",
       "    }\n",
       "</style>\n",
       "<table border=\"1\" class=\"dataframe\">\n",
       "  <thead>\n",
       "    <tr style=\"text-align: right;\">\n",
       "      <th></th>\n",
       "      <th>mean_MAE</th>\n",
       "      <th>std_MAE</th>\n",
       "      <th>mean_RMSE</th>\n",
       "      <th>std_RMSE</th>\n",
       "    </tr>\n",
       "    <tr>\n",
       "      <th>colsample_bynode</th>\n",
       "      <th></th>\n",
       "      <th></th>\n",
       "      <th></th>\n",
       "      <th></th>\n",
       "    </tr>\n",
       "  </thead>\n",
       "  <tbody>\n",
       "    <tr>\n",
       "      <th>0.50</th>\n",
       "      <td>1389.015556</td>\n",
       "      <td>221.550556</td>\n",
       "      <td>2013.012778</td>\n",
       "      <td>312.238889</td>\n",
       "    </tr>\n",
       "    <tr>\n",
       "      <th>0.75</th>\n",
       "      <td>1476.576111</td>\n",
       "      <td>227.788889</td>\n",
       "      <td>2142.740556</td>\n",
       "      <td>319.936667</td>\n",
       "    </tr>\n",
       "    <tr>\n",
       "      <th>1.00</th>\n",
       "      <td>1513.957143</td>\n",
       "      <td>240.805000</td>\n",
       "      <td>2195.601429</td>\n",
       "      <td>338.672857</td>\n",
       "    </tr>\n",
       "  </tbody>\n",
       "</table>\n",
       "</div>"
      ],
      "text/plain": [
       "                     mean_MAE     std_MAE    mean_RMSE    std_RMSE\n",
       "colsample_bynode                                                  \n",
       "0.50              1389.015556  221.550556  2013.012778  312.238889\n",
       "0.75              1476.576111  227.788889  2142.740556  319.936667\n",
       "1.00              1513.957143  240.805000  2195.601429  338.672857"
      ]
     },
     "metadata": {},
     "output_type": "display_data"
    },
    {
     "data": {
      "text/html": [
       "<div>\n",
       "<style scoped>\n",
       "    .dataframe tbody tr th:only-of-type {\n",
       "        vertical-align: middle;\n",
       "    }\n",
       "\n",
       "    .dataframe tbody tr th {\n",
       "        vertical-align: top;\n",
       "    }\n",
       "\n",
       "    .dataframe thead th {\n",
       "        text-align: right;\n",
       "    }\n",
       "</style>\n",
       "<table border=\"1\" class=\"dataframe\">\n",
       "  <thead>\n",
       "    <tr style=\"text-align: right;\">\n",
       "      <th></th>\n",
       "      <th>mean_MAE</th>\n",
       "      <th>std_MAE</th>\n",
       "      <th>mean_RMSE</th>\n",
       "      <th>std_RMSE</th>\n",
       "    </tr>\n",
       "    <tr>\n",
       "      <th>min_child_weight</th>\n",
       "      <th></th>\n",
       "      <th></th>\n",
       "      <th></th>\n",
       "      <th></th>\n",
       "    </tr>\n",
       "  </thead>\n",
       "  <tbody>\n",
       "    <tr>\n",
       "      <th>1</th>\n",
       "      <td>1389.330625</td>\n",
       "      <td>227.331875</td>\n",
       "      <td>2014.300000</td>\n",
       "      <td>320.078750</td>\n",
       "    </tr>\n",
       "    <tr>\n",
       "      <th>3</th>\n",
       "      <td>1544.508824</td>\n",
       "      <td>227.681765</td>\n",
       "      <td>2236.085882</td>\n",
       "      <td>316.093529</td>\n",
       "    </tr>\n",
       "    <tr>\n",
       "      <th>5</th>\n",
       "      <td>1428.830000</td>\n",
       "      <td>232.440000</td>\n",
       "      <td>2076.454118</td>\n",
       "      <td>330.925294</td>\n",
       "    </tr>\n",
       "  </tbody>\n",
       "</table>\n",
       "</div>"
      ],
      "text/plain": [
       "                     mean_MAE     std_MAE    mean_RMSE    std_RMSE\n",
       "min_child_weight                                                  \n",
       "1                 1389.330625  227.331875  2014.300000  320.078750\n",
       "3                 1544.508824  227.681765  2236.085882  316.093529\n",
       "5                 1428.830000  232.440000  2076.454118  330.925294"
      ]
     },
     "metadata": {},
     "output_type": "display_data"
    }
   ],
   "source": [
    "# only the first run\n",
    "df00 = df00[df00['id'] < 10000]\n",
    "\n",
    "df00 = create_mape_rmse_columns(df00)\n",
    "\n",
    "# filter best 50 of 173\n",
    "df00 = df00.loc[df00['mean_MAE'].sort_values().index]\n",
    "df00 = df00.iloc[:50]\n",
    "\n",
    "list_columns = [\n",
    "    'n_estimatores', 'learning_rate', 'max_depth', 'subsample',\n",
    "    'colsample_bytee', 'colsample_bynode', 'min_child_weight'\n",
    "]\n",
    "\n",
    "display_errors_by_parameters(df00, list_columns)"
   ]
  },
  {
   "cell_type": "markdown",
   "id": "5bf26133",
   "metadata": {},
   "source": [
    "### 2.1.1. SELECTED PARAMS"
   ]
  },
  {
   "cell_type": "code",
   "execution_count": 73,
   "id": "755be56f",
   "metadata": {
    "ExecuteTime": {
     "end_time": "2022-01-31T15:14:11.115934Z",
     "start_time": "2022-01-31T15:14:11.100941Z"
    }
   },
   "outputs": [],
   "source": [
    "param = {\n",
    "    'n_estimatores': [1000, 1300, 1700],\n",
    "    'learning_rate': [0.08, 0.11, 0.14], \n",
    "    'max_depth': [9, 12],\n",
    "    'subsample': [0.5],  \n",
    "    'colsample_bytee': [0.5],\n",
    "    'colsample_bynode': [0.5],\n",
    "    'min_child_weight': [5]\n",
    "}"
   ]
  },
  {
   "cell_type": "markdown",
   "id": "965256e0",
   "metadata": {},
   "source": [
    "## 2.2. SECOND ROUND"
   ]
  },
  {
   "cell_type": "code",
   "execution_count": 74,
   "id": "723b37a7",
   "metadata": {
    "ExecuteTime": {
     "end_time": "2022-01-31T15:14:11.998429Z",
     "start_time": "2022-01-31T15:14:11.988434Z"
    }
   },
   "outputs": [],
   "source": [
    "df01 = data.copy()"
   ]
  },
  {
   "cell_type": "code",
   "execution_count": 75,
   "id": "c505589a",
   "metadata": {
    "ExecuteTime": {
     "end_time": "2022-01-31T15:14:12.506139Z",
     "start_time": "2022-01-31T15:14:12.423187Z"
    }
   },
   "outputs": [
    {
     "data": {
      "text/html": [
       "<div>\n",
       "<style scoped>\n",
       "    .dataframe tbody tr th:only-of-type {\n",
       "        vertical-align: middle;\n",
       "    }\n",
       "\n",
       "    .dataframe tbody tr th {\n",
       "        vertical-align: top;\n",
       "    }\n",
       "\n",
       "    .dataframe thead th {\n",
       "        text-align: right;\n",
       "    }\n",
       "</style>\n",
       "<table border=\"1\" class=\"dataframe\">\n",
       "  <thead>\n",
       "    <tr style=\"text-align: right;\">\n",
       "      <th></th>\n",
       "      <th>mean_MAE</th>\n",
       "      <th>std_MAE</th>\n",
       "      <th>mean_RMSE</th>\n",
       "      <th>std_RMSE</th>\n",
       "    </tr>\n",
       "    <tr>\n",
       "      <th>n_estimatores</th>\n",
       "      <th></th>\n",
       "      <th></th>\n",
       "      <th></th>\n",
       "      <th></th>\n",
       "    </tr>\n",
       "  </thead>\n",
       "  <tbody>\n",
       "    <tr>\n",
       "      <th>1000</th>\n",
       "      <td>1018.838333</td>\n",
       "      <td>199.206667</td>\n",
       "      <td>1475.536667</td>\n",
       "      <td>292.238333</td>\n",
       "    </tr>\n",
       "    <tr>\n",
       "      <th>1300</th>\n",
       "      <td>1018.838333</td>\n",
       "      <td>199.206667</td>\n",
       "      <td>1475.536667</td>\n",
       "      <td>292.238333</td>\n",
       "    </tr>\n",
       "    <tr>\n",
       "      <th>1700</th>\n",
       "      <td>1018.838333</td>\n",
       "      <td>199.206667</td>\n",
       "      <td>1475.536667</td>\n",
       "      <td>292.238333</td>\n",
       "    </tr>\n",
       "  </tbody>\n",
       "</table>\n",
       "</div>"
      ],
      "text/plain": [
       "                  mean_MAE     std_MAE    mean_RMSE    std_RMSE\n",
       "n_estimatores                                                  \n",
       "1000           1018.838333  199.206667  1475.536667  292.238333\n",
       "1300           1018.838333  199.206667  1475.536667  292.238333\n",
       "1700           1018.838333  199.206667  1475.536667  292.238333"
      ]
     },
     "metadata": {},
     "output_type": "display_data"
    },
    {
     "data": {
      "text/html": [
       "<div>\n",
       "<style scoped>\n",
       "    .dataframe tbody tr th:only-of-type {\n",
       "        vertical-align: middle;\n",
       "    }\n",
       "\n",
       "    .dataframe tbody tr th {\n",
       "        vertical-align: top;\n",
       "    }\n",
       "\n",
       "    .dataframe thead th {\n",
       "        text-align: right;\n",
       "    }\n",
       "</style>\n",
       "<table border=\"1\" class=\"dataframe\">\n",
       "  <thead>\n",
       "    <tr style=\"text-align: right;\">\n",
       "      <th></th>\n",
       "      <th>mean_MAE</th>\n",
       "      <th>std_MAE</th>\n",
       "      <th>mean_RMSE</th>\n",
       "      <th>std_RMSE</th>\n",
       "    </tr>\n",
       "    <tr>\n",
       "      <th>learning_rate</th>\n",
       "      <th></th>\n",
       "      <th></th>\n",
       "      <th></th>\n",
       "      <th></th>\n",
       "    </tr>\n",
       "  </thead>\n",
       "  <tbody>\n",
       "    <tr>\n",
       "      <th>0.08</th>\n",
       "      <td>1111.430</td>\n",
       "      <td>204.245</td>\n",
       "      <td>1612.275</td>\n",
       "      <td>302.300</td>\n",
       "    </tr>\n",
       "    <tr>\n",
       "      <th>0.11</th>\n",
       "      <td>991.185</td>\n",
       "      <td>197.240</td>\n",
       "      <td>1433.575</td>\n",
       "      <td>286.405</td>\n",
       "    </tr>\n",
       "    <tr>\n",
       "      <th>0.14</th>\n",
       "      <td>953.900</td>\n",
       "      <td>196.135</td>\n",
       "      <td>1380.760</td>\n",
       "      <td>288.010</td>\n",
       "    </tr>\n",
       "  </tbody>\n",
       "</table>\n",
       "</div>"
      ],
      "text/plain": [
       "               mean_MAE  std_MAE  mean_RMSE  std_RMSE\n",
       "learning_rate                                        \n",
       "0.08           1111.430  204.245   1612.275   302.300\n",
       "0.11            991.185  197.240   1433.575   286.405\n",
       "0.14            953.900  196.135   1380.760   288.010"
      ]
     },
     "metadata": {},
     "output_type": "display_data"
    },
    {
     "data": {
      "text/html": [
       "<div>\n",
       "<style scoped>\n",
       "    .dataframe tbody tr th:only-of-type {\n",
       "        vertical-align: middle;\n",
       "    }\n",
       "\n",
       "    .dataframe tbody tr th {\n",
       "        vertical-align: top;\n",
       "    }\n",
       "\n",
       "    .dataframe thead th {\n",
       "        text-align: right;\n",
       "    }\n",
       "</style>\n",
       "<table border=\"1\" class=\"dataframe\">\n",
       "  <thead>\n",
       "    <tr style=\"text-align: right;\">\n",
       "      <th></th>\n",
       "      <th>mean_MAE</th>\n",
       "      <th>std_MAE</th>\n",
       "      <th>mean_RMSE</th>\n",
       "      <th>std_RMSE</th>\n",
       "    </tr>\n",
       "    <tr>\n",
       "      <th>max_depth</th>\n",
       "      <th></th>\n",
       "      <th></th>\n",
       "      <th></th>\n",
       "      <th></th>\n",
       "    </tr>\n",
       "  </thead>\n",
       "  <tbody>\n",
       "    <tr>\n",
       "      <th>9</th>\n",
       "      <td>1105.966667</td>\n",
       "      <td>197.496667</td>\n",
       "      <td>1599.103333</td>\n",
       "      <td>282.186667</td>\n",
       "    </tr>\n",
       "    <tr>\n",
       "      <th>12</th>\n",
       "      <td>931.710000</td>\n",
       "      <td>200.916667</td>\n",
       "      <td>1351.970000</td>\n",
       "      <td>302.290000</td>\n",
       "    </tr>\n",
       "  </tbody>\n",
       "</table>\n",
       "</div>"
      ],
      "text/plain": [
       "              mean_MAE     std_MAE    mean_RMSE    std_RMSE\n",
       "max_depth                                                  \n",
       "9          1105.966667  197.496667  1599.103333  282.186667\n",
       "12          931.710000  200.916667  1351.970000  302.290000"
      ]
     },
     "metadata": {},
     "output_type": "display_data"
    }
   ],
   "source": [
    "# id's 10000 --> selected params of first run\n",
    "df01 = df01[(df01['id'] > 10000) & (df01['id'] < 20000)]\n",
    "\n",
    "df01 = create_mape_rmse_columns(df01)\n",
    "\n",
    "list_columns = ['n_estimatores', 'learning_rate', 'max_depth']\n",
    "\n",
    "display_errors_by_parameters(df01, list_columns)"
   ]
  },
  {
   "cell_type": "markdown",
   "id": "e24eedad",
   "metadata": {},
   "source": [
    "### 2.2.1. SELECTED PARAMS"
   ]
  },
  {
   "cell_type": "code",
   "execution_count": 76,
   "id": "e7d99c6b",
   "metadata": {
    "ExecuteTime": {
     "end_time": "2022-01-31T15:14:13.275702Z",
     "start_time": "2022-01-31T15:14:13.260709Z"
    }
   },
   "outputs": [],
   "source": [
    "param = {\n",
    "    'n_estimatores': [1300, 1500],\n",
    "    'learning_rate': [0.11, 0.14, 0.17], \n",
    "    'max_depth': [12, 15],\n",
    "    'subsample': [0.5],  \n",
    "    'colsample_bytee': [0.5],\n",
    "    'colsample_bynode': [0.5],\n",
    "    'min_child_weight': [5]\n",
    "}"
   ]
  },
  {
   "cell_type": "markdown",
   "id": "7e14b8e6",
   "metadata": {},
   "source": [
    "## 2.3. LAST ROUND"
   ]
  },
  {
   "cell_type": "code",
   "execution_count": 77,
   "id": "76c47186",
   "metadata": {
    "ExecuteTime": {
     "end_time": "2022-01-31T15:14:14.996718Z",
     "start_time": "2022-01-31T15:14:14.986725Z"
    }
   },
   "outputs": [],
   "source": [
    "df02 = data.copy()\n",
    "df03 = data.copy()"
   ]
  },
  {
   "cell_type": "code",
   "execution_count": 78,
   "id": "fb046b29",
   "metadata": {
    "ExecuteTime": {
     "end_time": "2022-01-31T15:14:15.548403Z",
     "start_time": "2022-01-31T15:14:15.517419Z"
    }
   },
   "outputs": [],
   "source": [
    "# id's 20000 --> selected params of second run\n",
    "df02 = df02[(df02['id'] > 20000) & (df02['id'] < 30000)]\n",
    "# id' 30000 -> selected params of second run--> but using new param to test--> num_parallel_tree = 2\n",
    "df03 = df03[(df03['id'] > 30000) & (df03['id'] < 40000)]\n",
    "\n",
    "df02 = create_mape_rmse_columns(df02)\n",
    "\n",
    "df03 = create_mape_rmse_columns(df02)\n",
    "\n",
    "list_columns = ['n_estimatores', 'learning_rate', 'max_depth']"
   ]
  },
  {
   "cell_type": "markdown",
   "id": "af964c03",
   "metadata": {},
   "source": [
    "Selected params of second run"
   ]
  },
  {
   "cell_type": "code",
   "execution_count": 79,
   "id": "de3e9c75",
   "metadata": {
    "ExecuteTime": {
     "end_time": "2022-01-31T15:14:16.518852Z",
     "start_time": "2022-01-31T15:14:16.445888Z"
    }
   },
   "outputs": [
    {
     "data": {
      "text/html": [
       "<div>\n",
       "<style scoped>\n",
       "    .dataframe tbody tr th:only-of-type {\n",
       "        vertical-align: middle;\n",
       "    }\n",
       "\n",
       "    .dataframe tbody tr th {\n",
       "        vertical-align: top;\n",
       "    }\n",
       "\n",
       "    .dataframe thead th {\n",
       "        text-align: right;\n",
       "    }\n",
       "</style>\n",
       "<table border=\"1\" class=\"dataframe\">\n",
       "  <thead>\n",
       "    <tr style=\"text-align: right;\">\n",
       "      <th></th>\n",
       "      <th>mean_MAE</th>\n",
       "      <th>std_MAE</th>\n",
       "      <th>mean_RMSE</th>\n",
       "      <th>std_RMSE</th>\n",
       "    </tr>\n",
       "    <tr>\n",
       "      <th>n_estimatores</th>\n",
       "      <th></th>\n",
       "      <th></th>\n",
       "      <th></th>\n",
       "      <th></th>\n",
       "    </tr>\n",
       "  </thead>\n",
       "  <tbody>\n",
       "    <tr>\n",
       "      <th>1300</th>\n",
       "      <td>884.603333</td>\n",
       "      <td>199.8</td>\n",
       "      <td>1282.271667</td>\n",
       "      <td>300.011667</td>\n",
       "    </tr>\n",
       "    <tr>\n",
       "      <th>1500</th>\n",
       "      <td>884.603333</td>\n",
       "      <td>199.8</td>\n",
       "      <td>1282.271667</td>\n",
       "      <td>300.011667</td>\n",
       "    </tr>\n",
       "  </tbody>\n",
       "</table>\n",
       "</div>"
      ],
      "text/plain": [
       "                 mean_MAE  std_MAE    mean_RMSE    std_RMSE\n",
       "n_estimatores                                              \n",
       "1300           884.603333    199.8  1282.271667  300.011667\n",
       "1500           884.603333    199.8  1282.271667  300.011667"
      ]
     },
     "metadata": {},
     "output_type": "display_data"
    },
    {
     "data": {
      "text/html": [
       "<div>\n",
       "<style scoped>\n",
       "    .dataframe tbody tr th:only-of-type {\n",
       "        vertical-align: middle;\n",
       "    }\n",
       "\n",
       "    .dataframe tbody tr th {\n",
       "        vertical-align: top;\n",
       "    }\n",
       "\n",
       "    .dataframe thead th {\n",
       "        text-align: right;\n",
       "    }\n",
       "</style>\n",
       "<table border=\"1\" class=\"dataframe\">\n",
       "  <thead>\n",
       "    <tr style=\"text-align: right;\">\n",
       "      <th></th>\n",
       "      <th>mean_MAE</th>\n",
       "      <th>std_MAE</th>\n",
       "      <th>mean_RMSE</th>\n",
       "      <th>std_RMSE</th>\n",
       "    </tr>\n",
       "    <tr>\n",
       "      <th>learning_rate</th>\n",
       "      <th></th>\n",
       "      <th></th>\n",
       "      <th></th>\n",
       "      <th></th>\n",
       "    </tr>\n",
       "  </thead>\n",
       "  <tbody>\n",
       "    <tr>\n",
       "      <th>0.11</th>\n",
       "      <td>882.835</td>\n",
       "      <td>200.975</td>\n",
       "      <td>1280.500</td>\n",
       "      <td>303.240</td>\n",
       "    </tr>\n",
       "    <tr>\n",
       "      <th>0.14</th>\n",
       "      <td>880.995</td>\n",
       "      <td>206.575</td>\n",
       "      <td>1279.760</td>\n",
       "      <td>312.385</td>\n",
       "    </tr>\n",
       "    <tr>\n",
       "      <th>0.17</th>\n",
       "      <td>889.980</td>\n",
       "      <td>191.850</td>\n",
       "      <td>1286.555</td>\n",
       "      <td>284.410</td>\n",
       "    </tr>\n",
       "  </tbody>\n",
       "</table>\n",
       "</div>"
      ],
      "text/plain": [
       "               mean_MAE  std_MAE  mean_RMSE  std_RMSE\n",
       "learning_rate                                        \n",
       "0.11            882.835  200.975   1280.500   303.240\n",
       "0.14            880.995  206.575   1279.760   312.385\n",
       "0.17            889.980  191.850   1286.555   284.410"
      ]
     },
     "metadata": {},
     "output_type": "display_data"
    },
    {
     "data": {
      "text/html": [
       "<div>\n",
       "<style scoped>\n",
       "    .dataframe tbody tr th:only-of-type {\n",
       "        vertical-align: middle;\n",
       "    }\n",
       "\n",
       "    .dataframe tbody tr th {\n",
       "        vertical-align: top;\n",
       "    }\n",
       "\n",
       "    .dataframe thead th {\n",
       "        text-align: right;\n",
       "    }\n",
       "</style>\n",
       "<table border=\"1\" class=\"dataframe\">\n",
       "  <thead>\n",
       "    <tr style=\"text-align: right;\">\n",
       "      <th></th>\n",
       "      <th>mean_MAE</th>\n",
       "      <th>std_MAE</th>\n",
       "      <th>mean_RMSE</th>\n",
       "      <th>std_RMSE</th>\n",
       "    </tr>\n",
       "    <tr>\n",
       "      <th>max_depth</th>\n",
       "      <th></th>\n",
       "      <th></th>\n",
       "      <th></th>\n",
       "      <th></th>\n",
       "    </tr>\n",
       "  </thead>\n",
       "  <tbody>\n",
       "    <tr>\n",
       "      <th>12</th>\n",
       "      <td>896.363333</td>\n",
       "      <td>198.77</td>\n",
       "      <td>1298.566667</td>\n",
       "      <td>297.333333</td>\n",
       "    </tr>\n",
       "    <tr>\n",
       "      <th>15</th>\n",
       "      <td>872.843333</td>\n",
       "      <td>200.83</td>\n",
       "      <td>1265.976667</td>\n",
       "      <td>302.690000</td>\n",
       "    </tr>\n",
       "  </tbody>\n",
       "</table>\n",
       "</div>"
      ],
      "text/plain": [
       "             mean_MAE  std_MAE    mean_RMSE    std_RMSE\n",
       "max_depth                                              \n",
       "12         896.363333   198.77  1298.566667  297.333333\n",
       "15         872.843333   200.83  1265.976667  302.690000"
      ]
     },
     "metadata": {},
     "output_type": "display_data"
    }
   ],
   "source": [
    "display_errors_by_parameters(df02, list_columns)"
   ]
  },
  {
   "cell_type": "markdown",
   "id": "ddcb60c9",
   "metadata": {},
   "source": [
    "Selected params of second run--> but using new param to test--> num_parallel_tree = 2"
   ]
  },
  {
   "cell_type": "code",
   "execution_count": 80,
   "id": "eb06a290",
   "metadata": {
    "ExecuteTime": {
     "end_time": "2022-01-31T15:14:17.404342Z",
     "start_time": "2022-01-31T15:14:17.325387Z"
    },
    "scrolled": true
   },
   "outputs": [
    {
     "data": {
      "text/html": [
       "<div>\n",
       "<style scoped>\n",
       "    .dataframe tbody tr th:only-of-type {\n",
       "        vertical-align: middle;\n",
       "    }\n",
       "\n",
       "    .dataframe tbody tr th {\n",
       "        vertical-align: top;\n",
       "    }\n",
       "\n",
       "    .dataframe thead th {\n",
       "        text-align: right;\n",
       "    }\n",
       "</style>\n",
       "<table border=\"1\" class=\"dataframe\">\n",
       "  <thead>\n",
       "    <tr style=\"text-align: right;\">\n",
       "      <th></th>\n",
       "      <th>mean_MAE</th>\n",
       "      <th>std_MAE</th>\n",
       "      <th>mean_RMSE</th>\n",
       "      <th>std_RMSE</th>\n",
       "    </tr>\n",
       "    <tr>\n",
       "      <th>n_estimatores</th>\n",
       "      <th></th>\n",
       "      <th></th>\n",
       "      <th></th>\n",
       "      <th></th>\n",
       "    </tr>\n",
       "  </thead>\n",
       "  <tbody>\n",
       "    <tr>\n",
       "      <th>1300</th>\n",
       "      <td>884.603333</td>\n",
       "      <td>199.8</td>\n",
       "      <td>1282.271667</td>\n",
       "      <td>300.011667</td>\n",
       "    </tr>\n",
       "    <tr>\n",
       "      <th>1500</th>\n",
       "      <td>884.603333</td>\n",
       "      <td>199.8</td>\n",
       "      <td>1282.271667</td>\n",
       "      <td>300.011667</td>\n",
       "    </tr>\n",
       "  </tbody>\n",
       "</table>\n",
       "</div>"
      ],
      "text/plain": [
       "                 mean_MAE  std_MAE    mean_RMSE    std_RMSE\n",
       "n_estimatores                                              \n",
       "1300           884.603333    199.8  1282.271667  300.011667\n",
       "1500           884.603333    199.8  1282.271667  300.011667"
      ]
     },
     "metadata": {},
     "output_type": "display_data"
    },
    {
     "data": {
      "text/html": [
       "<div>\n",
       "<style scoped>\n",
       "    .dataframe tbody tr th:only-of-type {\n",
       "        vertical-align: middle;\n",
       "    }\n",
       "\n",
       "    .dataframe tbody tr th {\n",
       "        vertical-align: top;\n",
       "    }\n",
       "\n",
       "    .dataframe thead th {\n",
       "        text-align: right;\n",
       "    }\n",
       "</style>\n",
       "<table border=\"1\" class=\"dataframe\">\n",
       "  <thead>\n",
       "    <tr style=\"text-align: right;\">\n",
       "      <th></th>\n",
       "      <th>mean_MAE</th>\n",
       "      <th>std_MAE</th>\n",
       "      <th>mean_RMSE</th>\n",
       "      <th>std_RMSE</th>\n",
       "    </tr>\n",
       "    <tr>\n",
       "      <th>learning_rate</th>\n",
       "      <th></th>\n",
       "      <th></th>\n",
       "      <th></th>\n",
       "      <th></th>\n",
       "    </tr>\n",
       "  </thead>\n",
       "  <tbody>\n",
       "    <tr>\n",
       "      <th>0.11</th>\n",
       "      <td>882.835</td>\n",
       "      <td>200.975</td>\n",
       "      <td>1280.500</td>\n",
       "      <td>303.240</td>\n",
       "    </tr>\n",
       "    <tr>\n",
       "      <th>0.14</th>\n",
       "      <td>880.995</td>\n",
       "      <td>206.575</td>\n",
       "      <td>1279.760</td>\n",
       "      <td>312.385</td>\n",
       "    </tr>\n",
       "    <tr>\n",
       "      <th>0.17</th>\n",
       "      <td>889.980</td>\n",
       "      <td>191.850</td>\n",
       "      <td>1286.555</td>\n",
       "      <td>284.410</td>\n",
       "    </tr>\n",
       "  </tbody>\n",
       "</table>\n",
       "</div>"
      ],
      "text/plain": [
       "               mean_MAE  std_MAE  mean_RMSE  std_RMSE\n",
       "learning_rate                                        \n",
       "0.11            882.835  200.975   1280.500   303.240\n",
       "0.14            880.995  206.575   1279.760   312.385\n",
       "0.17            889.980  191.850   1286.555   284.410"
      ]
     },
     "metadata": {},
     "output_type": "display_data"
    },
    {
     "data": {
      "text/html": [
       "<div>\n",
       "<style scoped>\n",
       "    .dataframe tbody tr th:only-of-type {\n",
       "        vertical-align: middle;\n",
       "    }\n",
       "\n",
       "    .dataframe tbody tr th {\n",
       "        vertical-align: top;\n",
       "    }\n",
       "\n",
       "    .dataframe thead th {\n",
       "        text-align: right;\n",
       "    }\n",
       "</style>\n",
       "<table border=\"1\" class=\"dataframe\">\n",
       "  <thead>\n",
       "    <tr style=\"text-align: right;\">\n",
       "      <th></th>\n",
       "      <th>mean_MAE</th>\n",
       "      <th>std_MAE</th>\n",
       "      <th>mean_RMSE</th>\n",
       "      <th>std_RMSE</th>\n",
       "    </tr>\n",
       "    <tr>\n",
       "      <th>max_depth</th>\n",
       "      <th></th>\n",
       "      <th></th>\n",
       "      <th></th>\n",
       "      <th></th>\n",
       "    </tr>\n",
       "  </thead>\n",
       "  <tbody>\n",
       "    <tr>\n",
       "      <th>12</th>\n",
       "      <td>896.363333</td>\n",
       "      <td>198.77</td>\n",
       "      <td>1298.566667</td>\n",
       "      <td>297.333333</td>\n",
       "    </tr>\n",
       "    <tr>\n",
       "      <th>15</th>\n",
       "      <td>872.843333</td>\n",
       "      <td>200.83</td>\n",
       "      <td>1265.976667</td>\n",
       "      <td>302.690000</td>\n",
       "    </tr>\n",
       "  </tbody>\n",
       "</table>\n",
       "</div>"
      ],
      "text/plain": [
       "             mean_MAE  std_MAE    mean_RMSE    std_RMSE\n",
       "max_depth                                              \n",
       "12         896.363333   198.77  1298.566667  297.333333\n",
       "15         872.843333   200.83  1265.976667  302.690000"
      ]
     },
     "metadata": {},
     "output_type": "display_data"
    }
   ],
   "source": [
    "display_errors_by_parameters(df03, list_columns)"
   ]
  },
  {
   "cell_type": "markdown",
   "id": "2c320afa",
   "metadata": {},
   "source": [
    "### 2.2.1. SELECTED PARAMS"
   ]
  },
  {
   "cell_type": "code",
   "execution_count": 83,
   "id": "c143874f",
   "metadata": {
    "ExecuteTime": {
     "end_time": "2022-01-31T15:14:18.948460Z",
     "start_time": "2022-01-31T15:14:18.940464Z"
    }
   },
   "outputs": [],
   "source": [
    "# OBS --> min_child_weight seems to be better than 1 --> in the next cicle test that\n",
    "param = {\n",
    "    'n_estimatores': 1300,\n",
    "    'learning_rate': 0.11, \n",
    "    'max_depth': 12,\n",
    "    'subsample': 0.5,  \n",
    "    'colsample_bytee': 0.5,\n",
    "    'colsample_bynode': 0.5,\n",
    "    'min_child_weight': 5\n",
    "}"
   ]
  }
 ],
 "metadata": {
  "kernelspec": {
   "display_name": "Python 3 (ipykernel)",
   "language": "python",
   "name": "python3"
  },
  "language_info": {
   "codemirror_mode": {
    "name": "ipython",
    "version": 3
   },
   "file_extension": ".py",
   "mimetype": "text/x-python",
   "name": "python",
   "nbconvert_exporter": "python",
   "pygments_lexer": "ipython3",
   "version": "3.8.12"
  },
  "varInspector": {
   "cols": {
    "lenName": 16,
    "lenType": 16,
    "lenVar": 40
   },
   "kernels_config": {
    "python": {
     "delete_cmd_postfix": "",
     "delete_cmd_prefix": "del ",
     "library": "var_list.py",
     "varRefreshCmd": "print(var_dic_list())"
    },
    "r": {
     "delete_cmd_postfix": ") ",
     "delete_cmd_prefix": "rm(",
     "library": "var_list.r",
     "varRefreshCmd": "cat(var_dic_list()) "
    }
   },
   "types_to_exclude": [
    "module",
    "function",
    "builtin_function_or_method",
    "instance",
    "_Feature"
   ],
   "window_display": false
  }
 },
 "nbformat": 4,
 "nbformat_minor": 5
}
