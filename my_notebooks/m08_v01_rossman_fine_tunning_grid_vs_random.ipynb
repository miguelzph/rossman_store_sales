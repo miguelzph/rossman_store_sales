{
 "cells": [
  {
   "cell_type": "markdown",
   "id": "086dec05",
   "metadata": {},
   "source": [
    "# 0.1. IMPORTS"
   ]
  },
  {
   "cell_type": "code",
   "execution_count": 65,
   "id": "cab5ac42",
   "metadata": {
    "ExecuteTime": {
     "end_time": "2022-01-28T12:35:37.649872Z",
     "start_time": "2022-01-28T12:35:37.635902Z"
    }
   },
   "outputs": [],
   "source": [
    "import requests\n",
    "import pandas as pd\n",
    "import re"
   ]
  },
  {
   "cell_type": "markdown",
   "id": "771314ab",
   "metadata": {},
   "source": [
    "#  1.0. GETTING DATA"
   ]
  },
  {
   "cell_type": "code",
   "execution_count": 80,
   "id": "cfc8fa8c",
   "metadata": {
    "ExecuteTime": {
     "end_time": "2022-01-28T13:08:07.071298Z",
     "start_time": "2022-01-28T13:08:06.349443Z"
    }
   },
   "outputs": [
    {
     "ename": "JSONDecodeError",
     "evalue": "[Errno Expecting value] <!doctype html>\n<html lang=\"en\">\n\n<head>\n\t<title>Hmmmm.... We Couldn&#39;t Reach Your Repl</title>\n\t<style>\n\t\tbody {\n\t\t\tmargin: 0;\n\t\t\theight: 100vh;\n\t\t\tdisplay: flex;\n\t\t\tjustify-content: center;\n\t\t\talign-items: center;\n\t\t\tbackground: #ececec;\n\t\t\tfont-family: monospace;\n\t\t}\n\n\t\t.err-box {\n\t\t\tbackground: #fff;\n\t\t\tpadding: 1em;\n\t\t\tmax-width: 30em;\n\t\t\twidth: 100vw;\n\t\t}\n\n\t\t.message {\n\t\t\tdisplay: flex;\n\t\t\tflex-direction: row;\n\t\t}\n\n\t\t@media (max-width: 500px) {\n\t\t\t.message {\n\t\t\t\tflex-direction: column;\n\t\t\t\talign-items: center;\n\t\t\t}\n\t\t}\n\n\t\t.eval-bot {\n\t\t\twidth: 30%;\n\t\t\tmargin: 1em;\n\t\t}\n\n\t\t.console {\n\t\t\tbackground-color: #0e1628;\n\t\t\tcolor: #fff;\n\t\t\tfont-family: monospace;\n\t\t\tpadding: 1em;\n\t\t\tmargin: 1em;\n\t\t}\n\t</style>\n\n  <script>\n     var reload_timeout = setTimeout(function() {\n       window.location.reload();\n     }, 60000)\n  </script>\n</head>\n\n<body>\n\t<div class=\"err-box\">\n\t\t<div class=\"message\">\n\t\t\t<div class=\"eval-bot\">\n\t\t\t\t<svg xmlns=\"http://www.w3.org/2000/svg\" viewBox=\"0 10 50.5 42.8\">\n\t\t\t\t\t<defs>\n\t\t\t\t\t\t<style>\n\t\t\t\t\t\t\t.cls-1 {\n\t\t\t\t\t\t\t\tfill: #4f5050\n\t\t\t\t\t\t\t}\n\n\t\t\t\t\t\t\t.cls-2 {\n\t\t\t\t\t\t\t\tfill: #334b5e;\n\t\t\t\t\t\t\t\tfill-rule: evenodd\n\t\t\t\t\t\t\t}\n\n\t\t\t\t\t\t\t.cls-3 {\n\t\t\t\t\t\t\t\tfill: #e0e3e8\n\t\t\t\t\t\t\t}\n\n\t\t\t\t\t\t\t.cls-4 {\n\t\t\t\t\t\t\t\tfill: #57686f\n\t\t\t\t\t\t\t}\n\n\t\t\t\t\t\t\t.cls-5 {\n\t\t\t\t\t\t\t\tfill: #fff\n\t\t\t\t\t\t\t}\n\t\t\t\t\t\t</style>\n\t\t\t\t\t</defs>\n\t\t\t\t\t<g id=\"Layer_2\" data-name=\"Layer 2\">\n\t\t\t\t\t\t<path class=\"cls-1\" d=\"M22.9 32.2H28v10.5h-5.1z\" />\n\t\t\t\t\t\t<path class=\"cls-2\" d=\"M14.1 37.5l-4.9-4.7-2.9 2.4 7.1 4.5.7-2.2z\" />\n\t\t\t\t\t\t<circle class=\"cls-3\" cx=\"13.8\" cy=\"37.5\" r=\"2.7\" />\n\t\t\t\t\t\t<path class=\"cls-2\" d=\"M37.2 37.5l4.9-4.7 2.9 2.4-7.2 4.5-.6-2.2z\" />\n\t\t\t\t\t\t<circle class=\"cls-3\" cx=\"37.5\" cy=\"37.5\" r=\"2.7\" />\n\t\t\t\t\t\t<path class=\"cls-2\" d=\"M46 33l1.4-8.5-1.6-.3-2.1 8.1 2.3.7z\" />\n\t\t\t\t\t\t<circle class=\"cls-3\" cx=\"44.3\" cy=\"32.6\" r=\"2.7\" transform=\"rotate(-81 44.3 32.6)\" />\n\t\t\t\t\t\t<circle class=\"cls-4\" cx=\"46.5\" cy=\"24.1\" r=\"1.2\" transform=\"rotate(-81 46.5 24.1)\" />\n\t\t\t\t\t\t<rect class=\"cls-3\" x=\"9.7\" y=\"15.8\" width=\"30.9\" height=\"15.8\" rx=\"7\" ry=\"7\" />\n\t\t\t\t\t\t<circle class=\"cls-5\" cx=\"32.6\" cy=\"23.4\" r=\"6\" />\n\t\t\t\t\t\t<path class=\"cls-4\" d=\"M37.6 23zm-7.5 0s-1.4 5 4.2 5.1a5 5 0 0 0 3.3-4.1v-1c-1.5 5.8-8 3.5-7.5 0z\" />\n\t\t\t\t\t\t<path class=\"cls-4\" d=\"M33 21s-5.2-1.4-5.1 4.3A5 5 0 0 0 29 27a5 5 0 0 0 .5.4h.1a5 5 0 0 0 .6.4l.1.1a5 5 0 0 0 .5.2h.1a5 5 0 0 0 .7.2h.2a5 5 0 0 0 .6 0h.5c-5.8-1.3-3.6-7.9 0-7.4z\"\n\t\t\t\t\t\t/>\n\t\t\t\t\t\t<path class=\"cls-4\" d=\"M35 23.7s1.3-5.2-4.3-5a5 5 0 0 0-3.1 5.4c1.2-5.9 7.8-4 7.4-.4z\" />\n\t\t\t\t\t\t<path class=\"cls-4\" d=\"M32.4 26s5.2.7 4.9-4.3a5 5 0 0 0-5.7-3.2c5.9.7 4.3 7.5.8 7.5z\" />\n\t\t\t\t\t\t<path class=\"cls-1\" d=\"M32.6 21.4a2 2 0 0 0-.3 0 1.1 1.1 0 0 1-1.7 1.5 2 2 0 1 0 2-1.5z\" />\n\t\t\t\t\t\t<path class=\"cls-5\" d=\"M32.5 22a1.1 1.1 0 0 0-.2-.6 2 2 0 0 0-1.7 1.5 1.1 1.1 0 0 0 1.9-.9z\" />\n\t\t\t\t\t\t<circle class=\"cls-5\" cx=\"17.4\" cy=\"23.4\" r=\"6\" />\n\t\t\t\t\t\t<path class=\"cls-4\" d=\"M22.4 23zM15 23s-1.5 5 4 5a5 5 0 0 0 3.3-4.1v-1c-1.5 5.8-8 3.5-7.5 0z\" />\n\t\t\t\t\t\t<path class=\"cls-4\" d=\"M17.8 21s-5.2-1.4-5 4.3a5 5 0 0 0 1.1 1.8h.1a5 5 0 0 0 .5.4 5 5 0 0 0 .6.4l.2.1a5 5 0 0 0 .5.2 5 5 0 0 0 .7.2h.2a5 5 0 0 0 .7 0h.5c-5.9-1.3-3.6-7.9 0-7.4z\"\n\t\t\t\t\t\t/>\n\t\t\t\t\t\t<path class=\"cls-4\" d=\"M19.9 23.7s1.2-5.2-4.3-5a5 5 0 0 0-3.2 5.4c1.2-5.9 7.8-4 7.5-.4z\" />\n\t\t\t\t\t\t<path class=\"cls-4\" d=\"M17.2 26s5.2.7 4.9-4.3a5 5 0 0 0-5.6-3.2c5.8.7 4.3 7.5.7 7.5z\" />\n\t\t\t\t\t\t<path class=\"cls-1\" d=\"M17.4 21.4a2 2 0 0 0-.3 0 1.1 1.1 0 0 1-1.6 1.5 2 2 0 1 0 2-1.5z\" />\n\t\t\t\t\t\t<path class=\"cls-5\" d=\"M17.3 22a1.1 1.1 0 0 0-.2-.6 2 2 0 0 0-1.6 1.5 1.1 1.1 0 0 0 1.8-.9z\" />\n\t\t\t\t\t\t<path d=\"M34.4 49.8H16.6a3 3 0 0 1-3-3l-1-8a2.7 2.7 0 0 1 2.6-3H36c1.6 0 2.5 1.3 2.5 3l-1 8a3 3 0 0 1-3 3z\" fill=\"#2f4556\"\n\t\t\t\t\t\t/>\n\t\t\t\t\t\t<path d=\"M23.8 43.8h2.7v2.7h-2.7zm2.7-2.7h2.7v2.7h-2.7zm-2.7-2.7h2.7v2.7h-2.7z\" fill=\"#ddb429\" />\n\t\t\t\t\t\t<path d=\"M22.3 34.6h6.3v1.6h-6.3zm0-2.5h6.3v1.6h-6.3z\" fill=\"#575858\" />\n\t\t\t\t\t\t<path class=\"cls-2\" d=\"M5.3 33l-1.4-8.5 1.6-.3 2.1 8.1-2.3.7z\" />\n\t\t\t\t\t\t<circle class=\"cls-3\" cx=\"7\" cy=\"32.6\" r=\"2.7\" transform=\"rotate(-9 7 32.6)\" />\n\t\t\t\t\t\t<circle class=\"cls-4\" cx=\"4.8\" cy=\"24.1\" r=\"1.2\" transform=\"rotate(-9 4.8 24.1)\" />\n\t\t\t\t\t</g>\n\t\t\t\t</svg>\n\t\t\t</div>\n\t\t\t<div class=\"info-box\">\n\t\t\t\t<h1>Hmmmm.... We Couldn&#39;t Reach Your Repl</h1>\n\t\t\t\t<h2>Make sure your repl has a port open and is ready to receive HTTP traffic.</h2>\n\t\t\t</div>\n\t\t</div>\n\t\t\n\t\t<div>\n\t\t\t<div>Return to <a href=\"https://replit.com\">Replit.com</a>?</div>\n\t\t</div>\n\t</div>\n</body>\n\n</html>: 0",
     "output_type": "error",
     "traceback": [
      "\u001b[1;31m---------------------------------------------------------------------------\u001b[0m",
      "\u001b[1;31mJSONDecodeError\u001b[0m                           Traceback (most recent call last)",
      "\u001b[1;32m~\\anaconda3\\envs\\dsemproducao_venv\\lib\\site-packages\\requests\\models.py\u001b[0m in \u001b[0;36mjson\u001b[1;34m(self, **kwargs)\u001b[0m\n\u001b[0;32m    909\u001b[0m         \u001b[1;32mtry\u001b[0m\u001b[1;33m:\u001b[0m\u001b[1;33m\u001b[0m\u001b[1;33m\u001b[0m\u001b[0m\n\u001b[1;32m--> 910\u001b[1;33m             \u001b[1;32mreturn\u001b[0m \u001b[0mcomplexjson\u001b[0m\u001b[1;33m.\u001b[0m\u001b[0mloads\u001b[0m\u001b[1;33m(\u001b[0m\u001b[0mself\u001b[0m\u001b[1;33m.\u001b[0m\u001b[0mtext\u001b[0m\u001b[1;33m,\u001b[0m \u001b[1;33m**\u001b[0m\u001b[0mkwargs\u001b[0m\u001b[1;33m)\u001b[0m\u001b[1;33m\u001b[0m\u001b[1;33m\u001b[0m\u001b[0m\n\u001b[0m\u001b[0;32m    911\u001b[0m         \u001b[1;32mexcept\u001b[0m \u001b[0mJSONDecodeError\u001b[0m \u001b[1;32mas\u001b[0m \u001b[0me\u001b[0m\u001b[1;33m:\u001b[0m\u001b[1;33m\u001b[0m\u001b[1;33m\u001b[0m\u001b[0m\n",
      "\u001b[1;32m~\\anaconda3\\envs\\dsemproducao_venv\\lib\\json\\__init__.py\u001b[0m in \u001b[0;36mloads\u001b[1;34m(s, cls, object_hook, parse_float, parse_int, parse_constant, object_pairs_hook, **kw)\u001b[0m\n\u001b[0;32m    356\u001b[0m             parse_constant is None and object_pairs_hook is None and not kw):\n\u001b[1;32m--> 357\u001b[1;33m         \u001b[1;32mreturn\u001b[0m \u001b[0m_default_decoder\u001b[0m\u001b[1;33m.\u001b[0m\u001b[0mdecode\u001b[0m\u001b[1;33m(\u001b[0m\u001b[0ms\u001b[0m\u001b[1;33m)\u001b[0m\u001b[1;33m\u001b[0m\u001b[1;33m\u001b[0m\u001b[0m\n\u001b[0m\u001b[0;32m    358\u001b[0m     \u001b[1;32mif\u001b[0m \u001b[0mcls\u001b[0m \u001b[1;32mis\u001b[0m \u001b[1;32mNone\u001b[0m\u001b[1;33m:\u001b[0m\u001b[1;33m\u001b[0m\u001b[1;33m\u001b[0m\u001b[0m\n",
      "\u001b[1;32m~\\anaconda3\\envs\\dsemproducao_venv\\lib\\json\\decoder.py\u001b[0m in \u001b[0;36mdecode\u001b[1;34m(self, s, _w)\u001b[0m\n\u001b[0;32m    336\u001b[0m         \"\"\"\n\u001b[1;32m--> 337\u001b[1;33m         \u001b[0mobj\u001b[0m\u001b[1;33m,\u001b[0m \u001b[0mend\u001b[0m \u001b[1;33m=\u001b[0m \u001b[0mself\u001b[0m\u001b[1;33m.\u001b[0m\u001b[0mraw_decode\u001b[0m\u001b[1;33m(\u001b[0m\u001b[0ms\u001b[0m\u001b[1;33m,\u001b[0m \u001b[0midx\u001b[0m\u001b[1;33m=\u001b[0m\u001b[0m_w\u001b[0m\u001b[1;33m(\u001b[0m\u001b[0ms\u001b[0m\u001b[1;33m,\u001b[0m \u001b[1;36m0\u001b[0m\u001b[1;33m)\u001b[0m\u001b[1;33m.\u001b[0m\u001b[0mend\u001b[0m\u001b[1;33m(\u001b[0m\u001b[1;33m)\u001b[0m\u001b[1;33m)\u001b[0m\u001b[1;33m\u001b[0m\u001b[1;33m\u001b[0m\u001b[0m\n\u001b[0m\u001b[0;32m    338\u001b[0m         \u001b[0mend\u001b[0m \u001b[1;33m=\u001b[0m \u001b[0m_w\u001b[0m\u001b[1;33m(\u001b[0m\u001b[0ms\u001b[0m\u001b[1;33m,\u001b[0m \u001b[0mend\u001b[0m\u001b[1;33m)\u001b[0m\u001b[1;33m.\u001b[0m\u001b[0mend\u001b[0m\u001b[1;33m(\u001b[0m\u001b[1;33m)\u001b[0m\u001b[1;33m\u001b[0m\u001b[1;33m\u001b[0m\u001b[0m\n",
      "\u001b[1;32m~\\anaconda3\\envs\\dsemproducao_venv\\lib\\json\\decoder.py\u001b[0m in \u001b[0;36mraw_decode\u001b[1;34m(self, s, idx)\u001b[0m\n\u001b[0;32m    354\u001b[0m         \u001b[1;32mexcept\u001b[0m \u001b[0mStopIteration\u001b[0m \u001b[1;32mas\u001b[0m \u001b[0merr\u001b[0m\u001b[1;33m:\u001b[0m\u001b[1;33m\u001b[0m\u001b[1;33m\u001b[0m\u001b[0m\n\u001b[1;32m--> 355\u001b[1;33m             \u001b[1;32mraise\u001b[0m \u001b[0mJSONDecodeError\u001b[0m\u001b[1;33m(\u001b[0m\u001b[1;34m\"Expecting value\"\u001b[0m\u001b[1;33m,\u001b[0m \u001b[0ms\u001b[0m\u001b[1;33m,\u001b[0m \u001b[0merr\u001b[0m\u001b[1;33m.\u001b[0m\u001b[0mvalue\u001b[0m\u001b[1;33m)\u001b[0m \u001b[1;32mfrom\u001b[0m \u001b[1;32mNone\u001b[0m\u001b[1;33m\u001b[0m\u001b[1;33m\u001b[0m\u001b[0m\n\u001b[0m\u001b[0;32m    356\u001b[0m         \u001b[1;32mreturn\u001b[0m \u001b[0mobj\u001b[0m\u001b[1;33m,\u001b[0m \u001b[0mend\u001b[0m\u001b[1;33m\u001b[0m\u001b[1;33m\u001b[0m\u001b[0m\n",
      "\u001b[1;31mJSONDecodeError\u001b[0m: Expecting value: line 1 column 1 (char 0)",
      "\nDuring handling of the above exception, another exception occurred:\n",
      "\u001b[1;31mJSONDecodeError\u001b[0m                           Traceback (most recent call last)",
      "\u001b[1;32m~\\AppData\\Local\\Temp/ipykernel_11196/1621756747.py\u001b[0m in \u001b[0;36m<module>\u001b[1;34m\u001b[0m\n\u001b[0;32m      1\u001b[0m \u001b[0mresponse\u001b[0m \u001b[1;33m=\u001b[0m \u001b[0mrequests\u001b[0m\u001b[1;33m.\u001b[0m\u001b[0mget\u001b[0m\u001b[1;33m(\u001b[0m\u001b[1;34m'https://xgboostfinetuning.miguelzaq.repl.co/data'\u001b[0m\u001b[1;33m)\u001b[0m\u001b[1;33m\u001b[0m\u001b[1;33m\u001b[0m\u001b[0m\n\u001b[1;32m----> 2\u001b[1;33m \u001b[0mfile_json\u001b[0m \u001b[1;33m=\u001b[0m \u001b[0mresponse\u001b[0m\u001b[1;33m.\u001b[0m\u001b[0mjson\u001b[0m\u001b[1;33m(\u001b[0m\u001b[1;33m)\u001b[0m\u001b[1;33m\u001b[0m\u001b[1;33m\u001b[0m\u001b[0m\n\u001b[0m\u001b[0;32m      3\u001b[0m \u001b[0mdf\u001b[0m \u001b[1;33m=\u001b[0m \u001b[0mpd\u001b[0m\u001b[1;33m.\u001b[0m\u001b[0mDataFrame\u001b[0m\u001b[1;33m(\u001b[0m\u001b[0mfile_json\u001b[0m\u001b[1;33m)\u001b[0m\u001b[1;33m\u001b[0m\u001b[1;33m\u001b[0m\u001b[0m\n\u001b[0;32m      4\u001b[0m \u001b[1;31m# save for future use\u001b[0m\u001b[1;33m\u001b[0m\u001b[1;33m\u001b[0m\u001b[1;33m\u001b[0m\u001b[0m\n\u001b[0;32m      5\u001b[0m \u001b[0mdf\u001b[0m\u001b[1;33m.\u001b[0m\u001b[0mto_csv\u001b[0m\u001b[1;33m(\u001b[0m\u001b[1;34m'../data_params/outcome_first_random.csv'\u001b[0m\u001b[1;33m)\u001b[0m\u001b[1;33m\u001b[0m\u001b[1;33m\u001b[0m\u001b[0m\n",
      "\u001b[1;32m~\\anaconda3\\envs\\dsemproducao_venv\\lib\\site-packages\\requests\\models.py\u001b[0m in \u001b[0;36mjson\u001b[1;34m(self, **kwargs)\u001b[0m\n\u001b[0;32m    915\u001b[0m                 \u001b[1;32mraise\u001b[0m \u001b[0mRequestsJSONDecodeError\u001b[0m\u001b[1;33m(\u001b[0m\u001b[0me\u001b[0m\u001b[1;33m.\u001b[0m\u001b[0mmessage\u001b[0m\u001b[1;33m)\u001b[0m\u001b[1;33m\u001b[0m\u001b[1;33m\u001b[0m\u001b[0m\n\u001b[0;32m    916\u001b[0m             \u001b[1;32melse\u001b[0m\u001b[1;33m:\u001b[0m\u001b[1;33m\u001b[0m\u001b[1;33m\u001b[0m\u001b[0m\n\u001b[1;32m--> 917\u001b[1;33m                 \u001b[1;32mraise\u001b[0m \u001b[0mRequestsJSONDecodeError\u001b[0m\u001b[1;33m(\u001b[0m\u001b[0me\u001b[0m\u001b[1;33m.\u001b[0m\u001b[0mmsg\u001b[0m\u001b[1;33m,\u001b[0m \u001b[0me\u001b[0m\u001b[1;33m.\u001b[0m\u001b[0mdoc\u001b[0m\u001b[1;33m,\u001b[0m \u001b[0me\u001b[0m\u001b[1;33m.\u001b[0m\u001b[0mpos\u001b[0m\u001b[1;33m)\u001b[0m\u001b[1;33m\u001b[0m\u001b[1;33m\u001b[0m\u001b[0m\n\u001b[0m\u001b[0;32m    918\u001b[0m \u001b[1;33m\u001b[0m\u001b[0m\n\u001b[0;32m    919\u001b[0m     \u001b[1;33m@\u001b[0m\u001b[0mproperty\u001b[0m\u001b[1;33m\u001b[0m\u001b[1;33m\u001b[0m\u001b[0m\n",
      "\u001b[1;31mJSONDecodeError\u001b[0m: [Errno Expecting value] <!doctype html>\n<html lang=\"en\">\n\n<head>\n\t<title>Hmmmm.... We Couldn&#39;t Reach Your Repl</title>\n\t<style>\n\t\tbody {\n\t\t\tmargin: 0;\n\t\t\theight: 100vh;\n\t\t\tdisplay: flex;\n\t\t\tjustify-content: center;\n\t\t\talign-items: center;\n\t\t\tbackground: #ececec;\n\t\t\tfont-family: monospace;\n\t\t}\n\n\t\t.err-box {\n\t\t\tbackground: #fff;\n\t\t\tpadding: 1em;\n\t\t\tmax-width: 30em;\n\t\t\twidth: 100vw;\n\t\t}\n\n\t\t.message {\n\t\t\tdisplay: flex;\n\t\t\tflex-direction: row;\n\t\t}\n\n\t\t@media (max-width: 500px) {\n\t\t\t.message {\n\t\t\t\tflex-direction: column;\n\t\t\t\talign-items: center;\n\t\t\t}\n\t\t}\n\n\t\t.eval-bot {\n\t\t\twidth: 30%;\n\t\t\tmargin: 1em;\n\t\t}\n\n\t\t.console {\n\t\t\tbackground-color: #0e1628;\n\t\t\tcolor: #fff;\n\t\t\tfont-family: monospace;\n\t\t\tpadding: 1em;\n\t\t\tmargin: 1em;\n\t\t}\n\t</style>\n\n  <script>\n     var reload_timeout = setTimeout(function() {\n       window.location.reload();\n     }, 60000)\n  </script>\n</head>\n\n<body>\n\t<div class=\"err-box\">\n\t\t<div class=\"message\">\n\t\t\t<div class=\"eval-bot\">\n\t\t\t\t<svg xmlns=\"http://www.w3.org/2000/svg\" viewBox=\"0 10 50.5 42.8\">\n\t\t\t\t\t<defs>\n\t\t\t\t\t\t<style>\n\t\t\t\t\t\t\t.cls-1 {\n\t\t\t\t\t\t\t\tfill: #4f5050\n\t\t\t\t\t\t\t}\n\n\t\t\t\t\t\t\t.cls-2 {\n\t\t\t\t\t\t\t\tfill: #334b5e;\n\t\t\t\t\t\t\t\tfill-rule: evenodd\n\t\t\t\t\t\t\t}\n\n\t\t\t\t\t\t\t.cls-3 {\n\t\t\t\t\t\t\t\tfill: #e0e3e8\n\t\t\t\t\t\t\t}\n\n\t\t\t\t\t\t\t.cls-4 {\n\t\t\t\t\t\t\t\tfill: #57686f\n\t\t\t\t\t\t\t}\n\n\t\t\t\t\t\t\t.cls-5 {\n\t\t\t\t\t\t\t\tfill: #fff\n\t\t\t\t\t\t\t}\n\t\t\t\t\t\t</style>\n\t\t\t\t\t</defs>\n\t\t\t\t\t<g id=\"Layer_2\" data-name=\"Layer 2\">\n\t\t\t\t\t\t<path class=\"cls-1\" d=\"M22.9 32.2H28v10.5h-5.1z\" />\n\t\t\t\t\t\t<path class=\"cls-2\" d=\"M14.1 37.5l-4.9-4.7-2.9 2.4 7.1 4.5.7-2.2z\" />\n\t\t\t\t\t\t<circle class=\"cls-3\" cx=\"13.8\" cy=\"37.5\" r=\"2.7\" />\n\t\t\t\t\t\t<path class=\"cls-2\" d=\"M37.2 37.5l4.9-4.7 2.9 2.4-7.2 4.5-.6-2.2z\" />\n\t\t\t\t\t\t<circle class=\"cls-3\" cx=\"37.5\" cy=\"37.5\" r=\"2.7\" />\n\t\t\t\t\t\t<path class=\"cls-2\" d=\"M46 33l1.4-8.5-1.6-.3-2.1 8.1 2.3.7z\" />\n\t\t\t\t\t\t<circle class=\"cls-3\" cx=\"44.3\" cy=\"32.6\" r=\"2.7\" transform=\"rotate(-81 44.3 32.6)\" />\n\t\t\t\t\t\t<circle class=\"cls-4\" cx=\"46.5\" cy=\"24.1\" r=\"1.2\" transform=\"rotate(-81 46.5 24.1)\" />\n\t\t\t\t\t\t<rect class=\"cls-3\" x=\"9.7\" y=\"15.8\" width=\"30.9\" height=\"15.8\" rx=\"7\" ry=\"7\" />\n\t\t\t\t\t\t<circle class=\"cls-5\" cx=\"32.6\" cy=\"23.4\" r=\"6\" />\n\t\t\t\t\t\t<path class=\"cls-4\" d=\"M37.6 23zm-7.5 0s-1.4 5 4.2 5.1a5 5 0 0 0 3.3-4.1v-1c-1.5 5.8-8 3.5-7.5 0z\" />\n\t\t\t\t\t\t<path class=\"cls-4\" d=\"M33 21s-5.2-1.4-5.1 4.3A5 5 0 0 0 29 27a5 5 0 0 0 .5.4h.1a5 5 0 0 0 .6.4l.1.1a5 5 0 0 0 .5.2h.1a5 5 0 0 0 .7.2h.2a5 5 0 0 0 .6 0h.5c-5.8-1.3-3.6-7.9 0-7.4z\"\n\t\t\t\t\t\t/>\n\t\t\t\t\t\t<path class=\"cls-4\" d=\"M35 23.7s1.3-5.2-4.3-5a5 5 0 0 0-3.1 5.4c1.2-5.9 7.8-4 7.4-.4z\" />\n\t\t\t\t\t\t<path class=\"cls-4\" d=\"M32.4 26s5.2.7 4.9-4.3a5 5 0 0 0-5.7-3.2c5.9.7 4.3 7.5.8 7.5z\" />\n\t\t\t\t\t\t<path class=\"cls-1\" d=\"M32.6 21.4a2 2 0 0 0-.3 0 1.1 1.1 0 0 1-1.7 1.5 2 2 0 1 0 2-1.5z\" />\n\t\t\t\t\t\t<path class=\"cls-5\" d=\"M32.5 22a1.1 1.1 0 0 0-.2-.6 2 2 0 0 0-1.7 1.5 1.1 1.1 0 0 0 1.9-.9z\" />\n\t\t\t\t\t\t<circle class=\"cls-5\" cx=\"17.4\" cy=\"23.4\" r=\"6\" />\n\t\t\t\t\t\t<path class=\"cls-4\" d=\"M22.4 23zM15 23s-1.5 5 4 5a5 5 0 0 0 3.3-4.1v-1c-1.5 5.8-8 3.5-7.5 0z\" />\n\t\t\t\t\t\t<path class=\"cls-4\" d=\"M17.8 21s-5.2-1.4-5 4.3a5 5 0 0 0 1.1 1.8h.1a5 5 0 0 0 .5.4 5 5 0 0 0 .6.4l.2.1a5 5 0 0 0 .5.2 5 5 0 0 0 .7.2h.2a5 5 0 0 0 .7 0h.5c-5.9-1.3-3.6-7.9 0-7.4z\"\n\t\t\t\t\t\t/>\n\t\t\t\t\t\t<path class=\"cls-4\" d=\"M19.9 23.7s1.2-5.2-4.3-5a5 5 0 0 0-3.2 5.4c1.2-5.9 7.8-4 7.5-.4z\" />\n\t\t\t\t\t\t<path class=\"cls-4\" d=\"M17.2 26s5.2.7 4.9-4.3a5 5 0 0 0-5.6-3.2c5.8.7 4.3 7.5.7 7.5z\" />\n\t\t\t\t\t\t<path class=\"cls-1\" d=\"M17.4 21.4a2 2 0 0 0-.3 0 1.1 1.1 0 0 1-1.6 1.5 2 2 0 1 0 2-1.5z\" />\n\t\t\t\t\t\t<path class=\"cls-5\" d=\"M17.3 22a1.1 1.1 0 0 0-.2-.6 2 2 0 0 0-1.6 1.5 1.1 1.1 0 0 0 1.8-.9z\" />\n\t\t\t\t\t\t<path d=\"M34.4 49.8H16.6a3 3 0 0 1-3-3l-1-8a2.7 2.7 0 0 1 2.6-3H36c1.6 0 2.5 1.3 2.5 3l-1 8a3 3 0 0 1-3 3z\" fill=\"#2f4556\"\n\t\t\t\t\t\t/>\n\t\t\t\t\t\t<path d=\"M23.8 43.8h2.7v2.7h-2.7zm2.7-2.7h2.7v2.7h-2.7zm-2.7-2.7h2.7v2.7h-2.7z\" fill=\"#ddb429\" />\n\t\t\t\t\t\t<path d=\"M22.3 34.6h6.3v1.6h-6.3zm0-2.5h6.3v1.6h-6.3z\" fill=\"#575858\" />\n\t\t\t\t\t\t<path class=\"cls-2\" d=\"M5.3 33l-1.4-8.5 1.6-.3 2.1 8.1-2.3.7z\" />\n\t\t\t\t\t\t<circle class=\"cls-3\" cx=\"7\" cy=\"32.6\" r=\"2.7\" transform=\"rotate(-9 7 32.6)\" />\n\t\t\t\t\t\t<circle class=\"cls-4\" cx=\"4.8\" cy=\"24.1\" r=\"1.2\" transform=\"rotate(-9 4.8 24.1)\" />\n\t\t\t\t\t</g>\n\t\t\t\t</svg>\n\t\t\t</div>\n\t\t\t<div class=\"info-box\">\n\t\t\t\t<h1>Hmmmm.... We Couldn&#39;t Reach Your Repl</h1>\n\t\t\t\t<h2>Make sure your repl has a port open and is ready to receive HTTP traffic.</h2>\n\t\t\t</div>\n\t\t</div>\n\t\t\n\t\t<div>\n\t\t\t<div>Return to <a href=\"https://replit.com\">Replit.com</a>?</div>\n\t\t</div>\n\t</div>\n</body>\n\n</html>: 0"
     ]
    }
   ],
   "source": [
    "response = requests.get('https://xgboostfinetuning.miguelzaq.repl.co/data')\n",
    "file_json = response.json()\n",
    "df = pd.DataFrame(file_json)\n",
    "# save for future use\n",
    "df.to_csv('../data_params/outcome_first_random.csv')\n",
    "\n",
    "# if API -- offilne \n",
    "#df = pd.read_csv('../data_params/outcome_first_random.csv')"
   ]
  },
  {
   "cell_type": "markdown",
   "id": "fb4698ae",
   "metadata": {},
   "source": [
    "# 2.0. PARAMS"
   ]
  },
  {
   "cell_type": "markdown",
   "id": "6df77512",
   "metadata": {},
   "source": [
    "## 2.1. FIRST ROUND"
   ]
  },
  {
   "cell_type": "code",
   "execution_count": 67,
   "id": "cbf32820",
   "metadata": {
    "ExecuteTime": {
     "end_time": "2022-01-28T12:35:43.433383Z",
     "start_time": "2022-01-28T12:35:43.403403Z"
    }
   },
   "outputs": [],
   "source": [
    "# Only runned's\n",
    "df = df[df['runned'] == 1]\n",
    "# Transform columns in a number\n",
    "df['mean_MAPE'] = df['MAPE'].apply(lambda x: float(re.match('(.*) \\+/- (.*)', x).group(1)))\n",
    "df['std_MAPE'] = df['MAPE'].apply(lambda x: float(re.match('(.*) \\+/- (.*)', x).group(2)))\n",
    "\n",
    "df['mean_RMSE'] = df['RMSE'].apply(lambda x: float(re.match('(.*) \\+/- (.*)', x).group(1)))\n",
    "df['std_RMSE'] = df['RMSE'].apply(lambda x: float(re.match('(.*) \\+/- (.*)', x).group(2)))"
   ]
  },
  {
   "cell_type": "code",
   "execution_count": 77,
   "id": "d256b954",
   "metadata": {
    "ExecuteTime": {
     "end_time": "2022-01-28T13:06:47.312398Z",
     "start_time": "2022-01-28T13:06:47.295408Z"
    }
   },
   "outputs": [],
   "source": [
    "# filter best 50 of 173\n",
    "df = df.loc[df['mean_MAPE'].sort_values().index]\n",
    "df = df.iloc[:50]"
   ]
  },
  {
   "cell_type": "code",
   "execution_count": 78,
   "id": "76b22eed",
   "metadata": {
    "ExecuteTime": {
     "end_time": "2022-01-28T13:06:49.752265Z",
     "start_time": "2022-01-28T13:06:49.733277Z"
    }
   },
   "outputs": [],
   "source": [
    "# list for groupby\n",
    "list_columns = [\n",
    "    'n_estimatores', 'learning_rate', 'max_depth', 'subsample',\n",
    "    'colsample_bytee', 'colsample_bynode', 'min_child_weight'\n",
    "]"
   ]
  },
  {
   "cell_type": "code",
   "execution_count": 79,
   "id": "5798cdc3",
   "metadata": {
    "ExecuteTime": {
     "end_time": "2022-01-28T13:06:50.614402Z",
     "start_time": "2022-01-28T13:06:50.485025Z"
    }
   },
   "outputs": [
    {
     "data": {
      "text/html": [
       "<div>\n",
       "<style scoped>\n",
       "    .dataframe tbody tr th:only-of-type {\n",
       "        vertical-align: middle;\n",
       "    }\n",
       "\n",
       "    .dataframe tbody tr th {\n",
       "        vertical-align: top;\n",
       "    }\n",
       "\n",
       "    .dataframe thead th {\n",
       "        text-align: right;\n",
       "    }\n",
       "</style>\n",
       "<table border=\"1\" class=\"dataframe\">\n",
       "  <thead>\n",
       "    <tr style=\"text-align: right;\">\n",
       "      <th></th>\n",
       "      <th>mean_MAPE</th>\n",
       "      <th>std_MAPE</th>\n",
       "      <th>mean_RMSE</th>\n",
       "      <th>std_RMSE</th>\n",
       "    </tr>\n",
       "    <tr>\n",
       "      <th>n_estimatores</th>\n",
       "      <th></th>\n",
       "      <th></th>\n",
       "      <th></th>\n",
       "      <th></th>\n",
       "    </tr>\n",
       "  </thead>\n",
       "  <tbody>\n",
       "    <tr>\n",
       "      <th>800</th>\n",
       "      <td>0.194444</td>\n",
       "      <td>0.012222</td>\n",
       "      <td>2086.146667</td>\n",
       "      <td>320.805556</td>\n",
       "    </tr>\n",
       "    <tr>\n",
       "      <th>1300</th>\n",
       "      <td>0.202273</td>\n",
       "      <td>0.016364</td>\n",
       "      <td>2151.906364</td>\n",
       "      <td>325.942273</td>\n",
       "    </tr>\n",
       "    <tr>\n",
       "      <th>2100</th>\n",
       "      <td>0.195263</td>\n",
       "      <td>0.017368</td>\n",
       "      <td>2074.985263</td>\n",
       "      <td>319.084211</td>\n",
       "    </tr>\n",
       "  </tbody>\n",
       "</table>\n",
       "</div>"
      ],
      "text/plain": [
       "               mean_MAPE  std_MAPE    mean_RMSE    std_RMSE\n",
       "n_estimatores                                              \n",
       "800             0.194444  0.012222  2086.146667  320.805556\n",
       "1300            0.202273  0.016364  2151.906364  325.942273\n",
       "2100            0.195263  0.017368  2074.985263  319.084211"
      ]
     },
     "metadata": {},
     "output_type": "display_data"
    },
    {
     "data": {
      "text/html": [
       "<div>\n",
       "<style scoped>\n",
       "    .dataframe tbody tr th:only-of-type {\n",
       "        vertical-align: middle;\n",
       "    }\n",
       "\n",
       "    .dataframe tbody tr th {\n",
       "        vertical-align: top;\n",
       "    }\n",
       "\n",
       "    .dataframe thead th {\n",
       "        text-align: right;\n",
       "    }\n",
       "</style>\n",
       "<table border=\"1\" class=\"dataframe\">\n",
       "  <thead>\n",
       "    <tr style=\"text-align: right;\">\n",
       "      <th></th>\n",
       "      <th>mean_MAPE</th>\n",
       "      <th>std_MAPE</th>\n",
       "      <th>mean_RMSE</th>\n",
       "      <th>std_RMSE</th>\n",
       "    </tr>\n",
       "    <tr>\n",
       "      <th>learning_rate</th>\n",
       "      <th></th>\n",
       "      <th></th>\n",
       "      <th></th>\n",
       "      <th></th>\n",
       "    </tr>\n",
       "  </thead>\n",
       "  <tbody>\n",
       "    <tr>\n",
       "      <th>0.05</th>\n",
       "      <td>0.200000</td>\n",
       "      <td>0.015625</td>\n",
       "      <td>2212.778125</td>\n",
       "      <td>356.705000</td>\n",
       "    </tr>\n",
       "    <tr>\n",
       "      <th>0.08</th>\n",
       "      <td>0.197353</td>\n",
       "      <td>0.016176</td>\n",
       "      <td>2062.868529</td>\n",
       "      <td>306.273529</td>\n",
       "    </tr>\n",
       "  </tbody>\n",
       "</table>\n",
       "</div>"
      ],
      "text/plain": [
       "               mean_MAPE  std_MAPE    mean_RMSE    std_RMSE\n",
       "learning_rate                                              \n",
       "0.05            0.200000  0.015625  2212.778125  356.705000\n",
       "0.08            0.197353  0.016176  2062.868529  306.273529"
      ]
     },
     "metadata": {},
     "output_type": "display_data"
    },
    {
     "data": {
      "text/html": [
       "<div>\n",
       "<style scoped>\n",
       "    .dataframe tbody tr th:only-of-type {\n",
       "        vertical-align: middle;\n",
       "    }\n",
       "\n",
       "    .dataframe tbody tr th {\n",
       "        vertical-align: top;\n",
       "    }\n",
       "\n",
       "    .dataframe thead th {\n",
       "        text-align: right;\n",
       "    }\n",
       "</style>\n",
       "<table border=\"1\" class=\"dataframe\">\n",
       "  <thead>\n",
       "    <tr style=\"text-align: right;\">\n",
       "      <th></th>\n",
       "      <th>mean_MAPE</th>\n",
       "      <th>std_MAPE</th>\n",
       "      <th>mean_RMSE</th>\n",
       "      <th>std_RMSE</th>\n",
       "    </tr>\n",
       "    <tr>\n",
       "      <th>max_depth</th>\n",
       "      <th></th>\n",
       "      <th></th>\n",
       "      <th></th>\n",
       "      <th></th>\n",
       "    </tr>\n",
       "  </thead>\n",
       "  <tbody>\n",
       "    <tr>\n",
       "      <th>6</th>\n",
       "      <td>0.219474</td>\n",
       "      <td>0.016842</td>\n",
       "      <td>2281.924211</td>\n",
       "      <td>307.075789</td>\n",
       "    </tr>\n",
       "    <tr>\n",
       "      <th>9</th>\n",
       "      <td>0.185161</td>\n",
       "      <td>0.015484</td>\n",
       "      <td>2005.981290</td>\n",
       "      <td>331.810968</td>\n",
       "    </tr>\n",
       "  </tbody>\n",
       "</table>\n",
       "</div>"
      ],
      "text/plain": [
       "           mean_MAPE  std_MAPE    mean_RMSE    std_RMSE\n",
       "max_depth                                              \n",
       "6           0.219474  0.016842  2281.924211  307.075789\n",
       "9           0.185161  0.015484  2005.981290  331.810968"
      ]
     },
     "metadata": {},
     "output_type": "display_data"
    },
    {
     "data": {
      "text/html": [
       "<div>\n",
       "<style scoped>\n",
       "    .dataframe tbody tr th:only-of-type {\n",
       "        vertical-align: middle;\n",
       "    }\n",
       "\n",
       "    .dataframe tbody tr th {\n",
       "        vertical-align: top;\n",
       "    }\n",
       "\n",
       "    .dataframe thead th {\n",
       "        text-align: right;\n",
       "    }\n",
       "</style>\n",
       "<table border=\"1\" class=\"dataframe\">\n",
       "  <thead>\n",
       "    <tr style=\"text-align: right;\">\n",
       "      <th></th>\n",
       "      <th>mean_MAPE</th>\n",
       "      <th>std_MAPE</th>\n",
       "      <th>mean_RMSE</th>\n",
       "      <th>std_RMSE</th>\n",
       "    </tr>\n",
       "    <tr>\n",
       "      <th>subsample</th>\n",
       "      <th></th>\n",
       "      <th></th>\n",
       "      <th></th>\n",
       "      <th></th>\n",
       "    </tr>\n",
       "  </thead>\n",
       "  <tbody>\n",
       "    <tr>\n",
       "      <th>0.50</th>\n",
       "      <td>0.197059</td>\n",
       "      <td>0.015882</td>\n",
       "      <td>2101.648824</td>\n",
       "      <td>329.453529</td>\n",
       "    </tr>\n",
       "    <tr>\n",
       "      <th>0.75</th>\n",
       "      <td>0.195000</td>\n",
       "      <td>0.015000</td>\n",
       "      <td>2076.769375</td>\n",
       "      <td>328.710625</td>\n",
       "    </tr>\n",
       "    <tr>\n",
       "      <th>1.00</th>\n",
       "      <td>0.202353</td>\n",
       "      <td>0.017059</td>\n",
       "      <td>2152.096471</td>\n",
       "      <td>309.441176</td>\n",
       "    </tr>\n",
       "  </tbody>\n",
       "</table>\n",
       "</div>"
      ],
      "text/plain": [
       "           mean_MAPE  std_MAPE    mean_RMSE    std_RMSE\n",
       "subsample                                              \n",
       "0.50        0.197059  0.015882  2101.648824  329.453529\n",
       "0.75        0.195000  0.015000  2076.769375  328.710625\n",
       "1.00        0.202353  0.017059  2152.096471  309.441176"
      ]
     },
     "metadata": {},
     "output_type": "display_data"
    },
    {
     "data": {
      "text/html": [
       "<div>\n",
       "<style scoped>\n",
       "    .dataframe tbody tr th:only-of-type {\n",
       "        vertical-align: middle;\n",
       "    }\n",
       "\n",
       "    .dataframe tbody tr th {\n",
       "        vertical-align: top;\n",
       "    }\n",
       "\n",
       "    .dataframe thead th {\n",
       "        text-align: right;\n",
       "    }\n",
       "</style>\n",
       "<table border=\"1\" class=\"dataframe\">\n",
       "  <thead>\n",
       "    <tr style=\"text-align: right;\">\n",
       "      <th></th>\n",
       "      <th>mean_MAPE</th>\n",
       "      <th>std_MAPE</th>\n",
       "      <th>mean_RMSE</th>\n",
       "      <th>std_RMSE</th>\n",
       "    </tr>\n",
       "    <tr>\n",
       "      <th>colsample_bytee</th>\n",
       "      <th></th>\n",
       "      <th></th>\n",
       "      <th></th>\n",
       "      <th></th>\n",
       "    </tr>\n",
       "  </thead>\n",
       "  <tbody>\n",
       "    <tr>\n",
       "      <th>0.50</th>\n",
       "      <td>0.194375</td>\n",
       "      <td>0.016875</td>\n",
       "      <td>2051.575000</td>\n",
       "      <td>319.255625</td>\n",
       "    </tr>\n",
       "    <tr>\n",
       "      <th>0.75</th>\n",
       "      <td>0.197222</td>\n",
       "      <td>0.016667</td>\n",
       "      <td>2114.421111</td>\n",
       "      <td>326.438333</td>\n",
       "    </tr>\n",
       "    <tr>\n",
       "      <th>1.00</th>\n",
       "      <td>0.203125</td>\n",
       "      <td>0.014375</td>\n",
       "      <td>2166.075000</td>\n",
       "      <td>321.037500</td>\n",
       "    </tr>\n",
       "  </tbody>\n",
       "</table>\n",
       "</div>"
      ],
      "text/plain": [
       "                 mean_MAPE  std_MAPE    mean_RMSE    std_RMSE\n",
       "colsample_bytee                                              \n",
       "0.50              0.194375  0.016875  2051.575000  319.255625\n",
       "0.75              0.197222  0.016667  2114.421111  326.438333\n",
       "1.00              0.203125  0.014375  2166.075000  321.037500"
      ]
     },
     "metadata": {},
     "output_type": "display_data"
    },
    {
     "data": {
      "text/html": [
       "<div>\n",
       "<style scoped>\n",
       "    .dataframe tbody tr th:only-of-type {\n",
       "        vertical-align: middle;\n",
       "    }\n",
       "\n",
       "    .dataframe tbody tr th {\n",
       "        vertical-align: top;\n",
       "    }\n",
       "\n",
       "    .dataframe thead th {\n",
       "        text-align: right;\n",
       "    }\n",
       "</style>\n",
       "<table border=\"1\" class=\"dataframe\">\n",
       "  <thead>\n",
       "    <tr style=\"text-align: right;\">\n",
       "      <th></th>\n",
       "      <th>mean_MAPE</th>\n",
       "      <th>std_MAPE</th>\n",
       "      <th>mean_RMSE</th>\n",
       "      <th>std_RMSE</th>\n",
       "    </tr>\n",
       "    <tr>\n",
       "      <th>colsample_bynode</th>\n",
       "      <th></th>\n",
       "      <th></th>\n",
       "      <th></th>\n",
       "      <th></th>\n",
       "    </tr>\n",
       "  </thead>\n",
       "  <tbody>\n",
       "    <tr>\n",
       "      <th>0.50</th>\n",
       "      <td>0.190000</td>\n",
       "      <td>0.015000</td>\n",
       "      <td>2013.012778</td>\n",
       "      <td>312.238889</td>\n",
       "    </tr>\n",
       "    <tr>\n",
       "      <th>0.75</th>\n",
       "      <td>0.200556</td>\n",
       "      <td>0.014444</td>\n",
       "      <td>2142.740556</td>\n",
       "      <td>319.936667</td>\n",
       "    </tr>\n",
       "    <tr>\n",
       "      <th>1.00</th>\n",
       "      <td>0.205714</td>\n",
       "      <td>0.019286</td>\n",
       "      <td>2195.601429</td>\n",
       "      <td>338.672857</td>\n",
       "    </tr>\n",
       "  </tbody>\n",
       "</table>\n",
       "</div>"
      ],
      "text/plain": [
       "                  mean_MAPE  std_MAPE    mean_RMSE    std_RMSE\n",
       "colsample_bynode                                              \n",
       "0.50               0.190000  0.015000  2013.012778  312.238889\n",
       "0.75               0.200556  0.014444  2142.740556  319.936667\n",
       "1.00               0.205714  0.019286  2195.601429  338.672857"
      ]
     },
     "metadata": {},
     "output_type": "display_data"
    },
    {
     "data": {
      "text/html": [
       "<div>\n",
       "<style scoped>\n",
       "    .dataframe tbody tr th:only-of-type {\n",
       "        vertical-align: middle;\n",
       "    }\n",
       "\n",
       "    .dataframe tbody tr th {\n",
       "        vertical-align: top;\n",
       "    }\n",
       "\n",
       "    .dataframe thead th {\n",
       "        text-align: right;\n",
       "    }\n",
       "</style>\n",
       "<table border=\"1\" class=\"dataframe\">\n",
       "  <thead>\n",
       "    <tr style=\"text-align: right;\">\n",
       "      <th></th>\n",
       "      <th>mean_MAPE</th>\n",
       "      <th>std_MAPE</th>\n",
       "      <th>mean_RMSE</th>\n",
       "      <th>std_RMSE</th>\n",
       "    </tr>\n",
       "    <tr>\n",
       "      <th>min_child_weight</th>\n",
       "      <th></th>\n",
       "      <th></th>\n",
       "      <th></th>\n",
       "      <th></th>\n",
       "    </tr>\n",
       "  </thead>\n",
       "  <tbody>\n",
       "    <tr>\n",
       "      <th>1</th>\n",
       "      <td>0.189375</td>\n",
       "      <td>0.017500</td>\n",
       "      <td>2014.300000</td>\n",
       "      <td>320.078750</td>\n",
       "    </tr>\n",
       "    <tr>\n",
       "      <th>3</th>\n",
       "      <td>0.211765</td>\n",
       "      <td>0.016471</td>\n",
       "      <td>2236.085882</td>\n",
       "      <td>316.093529</td>\n",
       "    </tr>\n",
       "    <tr>\n",
       "      <th>5</th>\n",
       "      <td>0.192941</td>\n",
       "      <td>0.014118</td>\n",
       "      <td>2076.454118</td>\n",
       "      <td>330.925294</td>\n",
       "    </tr>\n",
       "  </tbody>\n",
       "</table>\n",
       "</div>"
      ],
      "text/plain": [
       "                  mean_MAPE  std_MAPE    mean_RMSE    std_RMSE\n",
       "min_child_weight                                              \n",
       "1                  0.189375  0.017500  2014.300000  320.078750\n",
       "3                  0.211765  0.016471  2236.085882  316.093529\n",
       "5                  0.192941  0.014118  2076.454118  330.925294"
      ]
     },
     "metadata": {},
     "output_type": "display_data"
    }
   ],
   "source": [
    "# printing \n",
    "for column in list_columns:\n",
    "    display(df[[column, 'mean_MAPE', 'std_MAPE', 'mean_RMSE', 'std_RMSE']].groupby(column).mean())"
   ]
  },
  {
   "cell_type": "markdown",
   "id": "5bf26133",
   "metadata": {},
   "source": [
    "### 2.1.1. SELECTED PARAMS"
   ]
  },
  {
   "cell_type": "code",
   "execution_count": null,
   "id": "755be56f",
   "metadata": {},
   "outputs": [],
   "source": [
    "param = {\n",
    "    'n_estimatores': [1000, 1300, 1700],\n",
    "    'learning_rate': [0.08, 0.11, 0.14], \n",
    "    'max_depth': [9, 12],\n",
    "    'subsample': [0.5],  \n",
    "    'colsample_bytee': [0.5],\n",
    "    'colsample_bynode': [0.5],\n",
    "    'min_child_weight': [5]\n",
    "}"
   ]
  }
 ],
 "metadata": {
  "kernelspec": {
   "display_name": "Python 3 (ipykernel)",
   "language": "python",
   "name": "python3"
  },
  "language_info": {
   "codemirror_mode": {
    "name": "ipython",
    "version": 3
   },
   "file_extension": ".py",
   "mimetype": "text/x-python",
   "name": "python",
   "nbconvert_exporter": "python",
   "pygments_lexer": "ipython3",
   "version": "3.8.12"
  },
  "varInspector": {
   "cols": {
    "lenName": 16,
    "lenType": 16,
    "lenVar": 40
   },
   "kernels_config": {
    "python": {
     "delete_cmd_postfix": "",
     "delete_cmd_prefix": "del ",
     "library": "var_list.py",
     "varRefreshCmd": "print(var_dic_list())"
    },
    "r": {
     "delete_cmd_postfix": ") ",
     "delete_cmd_prefix": "rm(",
     "library": "var_list.r",
     "varRefreshCmd": "cat(var_dic_list()) "
    }
   },
   "types_to_exclude": [
    "module",
    "function",
    "builtin_function_or_method",
    "instance",
    "_Feature"
   ],
   "window_display": false
  }
 },
 "nbformat": 4,
 "nbformat_minor": 5
}
