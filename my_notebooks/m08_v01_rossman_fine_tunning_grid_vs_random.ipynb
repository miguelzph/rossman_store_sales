{
 "cells": [
  {
   "cell_type": "markdown",
   "id": "568c780b",
   "metadata": {},
   "source": [
    "# 0.0. Imports"
   ]
  },
  {
   "cell_type": "markdown",
   "id": "086dec05",
   "metadata": {},
   "source": [
    "## 0.1. Imports"
   ]
  },
  {
   "cell_type": "code",
   "execution_count": 9,
   "id": "cab5ac42",
   "metadata": {
    "ExecuteTime": {
     "end_time": "2022-01-31T14:33:37.227305Z",
     "start_time": "2022-01-31T14:33:37.210312Z"
    }
   },
   "outputs": [],
   "source": [
    "import requests\n",
    "import pandas as pd\n",
    "import re"
   ]
  },
  {
   "cell_type": "markdown",
   "id": "3cf6632e",
   "metadata": {},
   "source": [
    "# 0.2. Helper Functions"
   ]
  },
  {
   "cell_type": "code",
   "execution_count": 29,
   "id": "36763563",
   "metadata": {
    "ExecuteTime": {
     "end_time": "2022-01-31T14:38:56.959944Z",
     "start_time": "2022-01-31T14:38:56.936935Z"
    }
   },
   "outputs": [],
   "source": [
    "def create_mape_rmse_columns(df):\n",
    "    # Only runned's\n",
    "    df = df[df['runned'] == 1]\n",
    "    # Transform columns in a number\n",
    "    df['mean_MAPE'] = df['MAPE'].apply(lambda x: float(re.match('(.*) \\+/- (.*)', x).group(1)))\n",
    "    df['std_MAPE'] = df['MAPE'].apply(lambda x: float(re.match('(.*) \\+/- (.*)', x).group(2)))\n",
    "\n",
    "    df['mean_RMSE'] = df['RMSE'].apply(lambda x: float(re.match('(.*) \\+/- (.*)', x).group(1)))\n",
    "    df['std_RMSE'] = df['RMSE'].apply(lambda x: float(re.match('(.*) \\+/- (.*)', x).group(2)))\n",
    "    \n",
    "    return df\n",
    "\n",
    "def display_errors_by_parameters(df, list_of_parameters):\n",
    "    # printing \n",
    "    for column in list_of_parameters:\n",
    "        display(df[[column, 'mean_MAPE', 'std_MAPE', 'mean_RMSE', 'std_RMSE']].groupby(column).mean())\n",
    "    \n",
    "    return None"
   ]
  },
  {
   "cell_type": "markdown",
   "id": "771314ab",
   "metadata": {},
   "source": [
    "#  1.0. GETTING DATA"
   ]
  },
  {
   "cell_type": "code",
   "execution_count": 11,
   "id": "cfc8fa8c",
   "metadata": {
    "ExecuteTime": {
     "end_time": "2022-01-31T14:33:43.437707Z",
     "start_time": "2022-01-31T14:33:42.320580Z"
    }
   },
   "outputs": [],
   "source": [
    "response = requests.get('https://xgboostfinetuning.miguelzaq.repl.co/data')\n",
    "file_json = response.json()\n",
    "data = pd.DataFrame(file_json)\n",
    "# save for future use\n",
    "data.to_csv('../data_params/outcome_random.csv')\n",
    "\n",
    "# if API -- offilne \n",
    "#data = pd.read_csv('../data_params/outcome_first_random.csv')"
   ]
  },
  {
   "cell_type": "markdown",
   "id": "fb4698ae",
   "metadata": {},
   "source": [
    "# 2.0. PARAMS"
   ]
  },
  {
   "cell_type": "code",
   "execution_count": 12,
   "id": "4ef1de27",
   "metadata": {
    "ExecuteTime": {
     "end_time": "2022-01-31T14:33:45.605560Z",
     "start_time": "2022-01-31T14:33:45.592566Z"
    }
   },
   "outputs": [],
   "source": [
    "param = {\n",
    "    'n_estimatores': [800, 1300, 2100],\n",
    "    'learning_rate': [0.03, 0.05, 0.08], \n",
    "    'max_depth': [3, 6, 9],\n",
    "    'subsample': [0.5, 0.75, 1],  \n",
    "    'colsample_bytee': [0.5, 0.75, 1],\n",
    "    'colsample_bynode': [0.5, 0.75, 1],\n",
    "    'min_child_weight': [1, 3, 5]\n",
    "}"
   ]
  },
  {
   "cell_type": "markdown",
   "id": "6df77512",
   "metadata": {},
   "source": [
    "## 2.1. FIRST ROUND"
   ]
  },
  {
   "cell_type": "code",
   "execution_count": 18,
   "id": "503a8912",
   "metadata": {
    "ExecuteTime": {
     "end_time": "2022-01-31T14:34:56.703377Z",
     "start_time": "2022-01-31T14:34:56.688364Z"
    }
   },
   "outputs": [],
   "source": [
    "df00 = data.copy()"
   ]
  },
  {
   "cell_type": "code",
   "execution_count": 19,
   "id": "cbf32820",
   "metadata": {
    "ExecuteTime": {
     "end_time": "2022-01-31T14:34:57.381412Z",
     "start_time": "2022-01-31T14:34:57.240494Z"
    }
   },
   "outputs": [
    {
     "name": "stderr",
     "output_type": "stream",
     "text": [
      "C:\\Users\\Miguel\\AppData\\Local\\Temp/ipykernel_1560/3186266846.py:5: SettingWithCopyWarning: \n",
      "A value is trying to be set on a copy of a slice from a DataFrame.\n",
      "Try using .loc[row_indexer,col_indexer] = value instead\n",
      "\n",
      "See the caveats in the documentation: https://pandas.pydata.org/pandas-docs/stable/user_guide/indexing.html#returning-a-view-versus-a-copy\n",
      "  df['mean_MAPE'] = df['MAPE'].apply(lambda x: float(re.match('(.*) \\+/- (.*)', x).group(1)))\n",
      "C:\\Users\\Miguel\\AppData\\Local\\Temp/ipykernel_1560/3186266846.py:6: SettingWithCopyWarning: \n",
      "A value is trying to be set on a copy of a slice from a DataFrame.\n",
      "Try using .loc[row_indexer,col_indexer] = value instead\n",
      "\n",
      "See the caveats in the documentation: https://pandas.pydata.org/pandas-docs/stable/user_guide/indexing.html#returning-a-view-versus-a-copy\n",
      "  df['std_MAPE'] = df['MAPE'].apply(lambda x: float(re.match('(.*) \\+/- (.*)', x).group(2)))\n",
      "C:\\Users\\Miguel\\AppData\\Local\\Temp/ipykernel_1560/3186266846.py:8: SettingWithCopyWarning: \n",
      "A value is trying to be set on a copy of a slice from a DataFrame.\n",
      "Try using .loc[row_indexer,col_indexer] = value instead\n",
      "\n",
      "See the caveats in the documentation: https://pandas.pydata.org/pandas-docs/stable/user_guide/indexing.html#returning-a-view-versus-a-copy\n",
      "  df['mean_RMSE'] = df['RMSE'].apply(lambda x: float(re.match('(.*) \\+/- (.*)', x).group(1)))\n",
      "C:\\Users\\Miguel\\AppData\\Local\\Temp/ipykernel_1560/3186266846.py:9: SettingWithCopyWarning: \n",
      "A value is trying to be set on a copy of a slice from a DataFrame.\n",
      "Try using .loc[row_indexer,col_indexer] = value instead\n",
      "\n",
      "See the caveats in the documentation: https://pandas.pydata.org/pandas-docs/stable/user_guide/indexing.html#returning-a-view-versus-a-copy\n",
      "  df['std_RMSE'] = df['RMSE'].apply(lambda x: float(re.match('(.*) \\+/- (.*)', x).group(2)))\n"
     ]
    },
    {
     "data": {
      "text/html": [
       "<div>\n",
       "<style scoped>\n",
       "    .dataframe tbody tr th:only-of-type {\n",
       "        vertical-align: middle;\n",
       "    }\n",
       "\n",
       "    .dataframe tbody tr th {\n",
       "        vertical-align: top;\n",
       "    }\n",
       "\n",
       "    .dataframe thead th {\n",
       "        text-align: right;\n",
       "    }\n",
       "</style>\n",
       "<table border=\"1\" class=\"dataframe\">\n",
       "  <thead>\n",
       "    <tr style=\"text-align: right;\">\n",
       "      <th></th>\n",
       "      <th>mean_MAPE</th>\n",
       "      <th>std_MAPE</th>\n",
       "      <th>mean_RMSE</th>\n",
       "      <th>std_RMSE</th>\n",
       "    </tr>\n",
       "    <tr>\n",
       "      <th>n_estimatores</th>\n",
       "      <th></th>\n",
       "      <th></th>\n",
       "      <th></th>\n",
       "      <th></th>\n",
       "    </tr>\n",
       "  </thead>\n",
       "  <tbody>\n",
       "    <tr>\n",
       "      <th>800</th>\n",
       "      <td>0.194444</td>\n",
       "      <td>0.012222</td>\n",
       "      <td>2086.146667</td>\n",
       "      <td>320.805556</td>\n",
       "    </tr>\n",
       "    <tr>\n",
       "      <th>1300</th>\n",
       "      <td>0.202273</td>\n",
       "      <td>0.016364</td>\n",
       "      <td>2151.906364</td>\n",
       "      <td>325.942273</td>\n",
       "    </tr>\n",
       "    <tr>\n",
       "      <th>2100</th>\n",
       "      <td>0.195263</td>\n",
       "      <td>0.017368</td>\n",
       "      <td>2074.985263</td>\n",
       "      <td>319.084211</td>\n",
       "    </tr>\n",
       "  </tbody>\n",
       "</table>\n",
       "</div>"
      ],
      "text/plain": [
       "               mean_MAPE  std_MAPE    mean_RMSE    std_RMSE\n",
       "n_estimatores                                              \n",
       "800             0.194444  0.012222  2086.146667  320.805556\n",
       "1300            0.202273  0.016364  2151.906364  325.942273\n",
       "2100            0.195263  0.017368  2074.985263  319.084211"
      ]
     },
     "metadata": {},
     "output_type": "display_data"
    },
    {
     "data": {
      "text/html": [
       "<div>\n",
       "<style scoped>\n",
       "    .dataframe tbody tr th:only-of-type {\n",
       "        vertical-align: middle;\n",
       "    }\n",
       "\n",
       "    .dataframe tbody tr th {\n",
       "        vertical-align: top;\n",
       "    }\n",
       "\n",
       "    .dataframe thead th {\n",
       "        text-align: right;\n",
       "    }\n",
       "</style>\n",
       "<table border=\"1\" class=\"dataframe\">\n",
       "  <thead>\n",
       "    <tr style=\"text-align: right;\">\n",
       "      <th></th>\n",
       "      <th>mean_MAPE</th>\n",
       "      <th>std_MAPE</th>\n",
       "      <th>mean_RMSE</th>\n",
       "      <th>std_RMSE</th>\n",
       "    </tr>\n",
       "    <tr>\n",
       "      <th>learning_rate</th>\n",
       "      <th></th>\n",
       "      <th></th>\n",
       "      <th></th>\n",
       "      <th></th>\n",
       "    </tr>\n",
       "  </thead>\n",
       "  <tbody>\n",
       "    <tr>\n",
       "      <th>0.05</th>\n",
       "      <td>0.200000</td>\n",
       "      <td>0.015625</td>\n",
       "      <td>2212.778125</td>\n",
       "      <td>356.705000</td>\n",
       "    </tr>\n",
       "    <tr>\n",
       "      <th>0.08</th>\n",
       "      <td>0.197353</td>\n",
       "      <td>0.016176</td>\n",
       "      <td>2062.868529</td>\n",
       "      <td>306.273529</td>\n",
       "    </tr>\n",
       "  </tbody>\n",
       "</table>\n",
       "</div>"
      ],
      "text/plain": [
       "               mean_MAPE  std_MAPE    mean_RMSE    std_RMSE\n",
       "learning_rate                                              \n",
       "0.05            0.200000  0.015625  2212.778125  356.705000\n",
       "0.08            0.197353  0.016176  2062.868529  306.273529"
      ]
     },
     "metadata": {},
     "output_type": "display_data"
    },
    {
     "data": {
      "text/html": [
       "<div>\n",
       "<style scoped>\n",
       "    .dataframe tbody tr th:only-of-type {\n",
       "        vertical-align: middle;\n",
       "    }\n",
       "\n",
       "    .dataframe tbody tr th {\n",
       "        vertical-align: top;\n",
       "    }\n",
       "\n",
       "    .dataframe thead th {\n",
       "        text-align: right;\n",
       "    }\n",
       "</style>\n",
       "<table border=\"1\" class=\"dataframe\">\n",
       "  <thead>\n",
       "    <tr style=\"text-align: right;\">\n",
       "      <th></th>\n",
       "      <th>mean_MAPE</th>\n",
       "      <th>std_MAPE</th>\n",
       "      <th>mean_RMSE</th>\n",
       "      <th>std_RMSE</th>\n",
       "    </tr>\n",
       "    <tr>\n",
       "      <th>max_depth</th>\n",
       "      <th></th>\n",
       "      <th></th>\n",
       "      <th></th>\n",
       "      <th></th>\n",
       "    </tr>\n",
       "  </thead>\n",
       "  <tbody>\n",
       "    <tr>\n",
       "      <th>6</th>\n",
       "      <td>0.219474</td>\n",
       "      <td>0.016842</td>\n",
       "      <td>2281.924211</td>\n",
       "      <td>307.075789</td>\n",
       "    </tr>\n",
       "    <tr>\n",
       "      <th>9</th>\n",
       "      <td>0.185161</td>\n",
       "      <td>0.015484</td>\n",
       "      <td>2005.981290</td>\n",
       "      <td>331.810968</td>\n",
       "    </tr>\n",
       "  </tbody>\n",
       "</table>\n",
       "</div>"
      ],
      "text/plain": [
       "           mean_MAPE  std_MAPE    mean_RMSE    std_RMSE\n",
       "max_depth                                              \n",
       "6           0.219474  0.016842  2281.924211  307.075789\n",
       "9           0.185161  0.015484  2005.981290  331.810968"
      ]
     },
     "metadata": {},
     "output_type": "display_data"
    },
    {
     "data": {
      "text/html": [
       "<div>\n",
       "<style scoped>\n",
       "    .dataframe tbody tr th:only-of-type {\n",
       "        vertical-align: middle;\n",
       "    }\n",
       "\n",
       "    .dataframe tbody tr th {\n",
       "        vertical-align: top;\n",
       "    }\n",
       "\n",
       "    .dataframe thead th {\n",
       "        text-align: right;\n",
       "    }\n",
       "</style>\n",
       "<table border=\"1\" class=\"dataframe\">\n",
       "  <thead>\n",
       "    <tr style=\"text-align: right;\">\n",
       "      <th></th>\n",
       "      <th>mean_MAPE</th>\n",
       "      <th>std_MAPE</th>\n",
       "      <th>mean_RMSE</th>\n",
       "      <th>std_RMSE</th>\n",
       "    </tr>\n",
       "    <tr>\n",
       "      <th>subsample</th>\n",
       "      <th></th>\n",
       "      <th></th>\n",
       "      <th></th>\n",
       "      <th></th>\n",
       "    </tr>\n",
       "  </thead>\n",
       "  <tbody>\n",
       "    <tr>\n",
       "      <th>0.50</th>\n",
       "      <td>0.197059</td>\n",
       "      <td>0.015882</td>\n",
       "      <td>2101.648824</td>\n",
       "      <td>329.453529</td>\n",
       "    </tr>\n",
       "    <tr>\n",
       "      <th>0.75</th>\n",
       "      <td>0.195000</td>\n",
       "      <td>0.015000</td>\n",
       "      <td>2076.769375</td>\n",
       "      <td>328.710625</td>\n",
       "    </tr>\n",
       "    <tr>\n",
       "      <th>1.00</th>\n",
       "      <td>0.202353</td>\n",
       "      <td>0.017059</td>\n",
       "      <td>2152.096471</td>\n",
       "      <td>309.441176</td>\n",
       "    </tr>\n",
       "  </tbody>\n",
       "</table>\n",
       "</div>"
      ],
      "text/plain": [
       "           mean_MAPE  std_MAPE    mean_RMSE    std_RMSE\n",
       "subsample                                              \n",
       "0.50        0.197059  0.015882  2101.648824  329.453529\n",
       "0.75        0.195000  0.015000  2076.769375  328.710625\n",
       "1.00        0.202353  0.017059  2152.096471  309.441176"
      ]
     },
     "metadata": {},
     "output_type": "display_data"
    },
    {
     "data": {
      "text/html": [
       "<div>\n",
       "<style scoped>\n",
       "    .dataframe tbody tr th:only-of-type {\n",
       "        vertical-align: middle;\n",
       "    }\n",
       "\n",
       "    .dataframe tbody tr th {\n",
       "        vertical-align: top;\n",
       "    }\n",
       "\n",
       "    .dataframe thead th {\n",
       "        text-align: right;\n",
       "    }\n",
       "</style>\n",
       "<table border=\"1\" class=\"dataframe\">\n",
       "  <thead>\n",
       "    <tr style=\"text-align: right;\">\n",
       "      <th></th>\n",
       "      <th>mean_MAPE</th>\n",
       "      <th>std_MAPE</th>\n",
       "      <th>mean_RMSE</th>\n",
       "      <th>std_RMSE</th>\n",
       "    </tr>\n",
       "    <tr>\n",
       "      <th>colsample_bytee</th>\n",
       "      <th></th>\n",
       "      <th></th>\n",
       "      <th></th>\n",
       "      <th></th>\n",
       "    </tr>\n",
       "  </thead>\n",
       "  <tbody>\n",
       "    <tr>\n",
       "      <th>0.50</th>\n",
       "      <td>0.194375</td>\n",
       "      <td>0.016875</td>\n",
       "      <td>2051.575000</td>\n",
       "      <td>319.255625</td>\n",
       "    </tr>\n",
       "    <tr>\n",
       "      <th>0.75</th>\n",
       "      <td>0.197222</td>\n",
       "      <td>0.016667</td>\n",
       "      <td>2114.421111</td>\n",
       "      <td>326.438333</td>\n",
       "    </tr>\n",
       "    <tr>\n",
       "      <th>1.00</th>\n",
       "      <td>0.203125</td>\n",
       "      <td>0.014375</td>\n",
       "      <td>2166.075000</td>\n",
       "      <td>321.037500</td>\n",
       "    </tr>\n",
       "  </tbody>\n",
       "</table>\n",
       "</div>"
      ],
      "text/plain": [
       "                 mean_MAPE  std_MAPE    mean_RMSE    std_RMSE\n",
       "colsample_bytee                                              \n",
       "0.50              0.194375  0.016875  2051.575000  319.255625\n",
       "0.75              0.197222  0.016667  2114.421111  326.438333\n",
       "1.00              0.203125  0.014375  2166.075000  321.037500"
      ]
     },
     "metadata": {},
     "output_type": "display_data"
    },
    {
     "data": {
      "text/html": [
       "<div>\n",
       "<style scoped>\n",
       "    .dataframe tbody tr th:only-of-type {\n",
       "        vertical-align: middle;\n",
       "    }\n",
       "\n",
       "    .dataframe tbody tr th {\n",
       "        vertical-align: top;\n",
       "    }\n",
       "\n",
       "    .dataframe thead th {\n",
       "        text-align: right;\n",
       "    }\n",
       "</style>\n",
       "<table border=\"1\" class=\"dataframe\">\n",
       "  <thead>\n",
       "    <tr style=\"text-align: right;\">\n",
       "      <th></th>\n",
       "      <th>mean_MAPE</th>\n",
       "      <th>std_MAPE</th>\n",
       "      <th>mean_RMSE</th>\n",
       "      <th>std_RMSE</th>\n",
       "    </tr>\n",
       "    <tr>\n",
       "      <th>colsample_bynode</th>\n",
       "      <th></th>\n",
       "      <th></th>\n",
       "      <th></th>\n",
       "      <th></th>\n",
       "    </tr>\n",
       "  </thead>\n",
       "  <tbody>\n",
       "    <tr>\n",
       "      <th>0.50</th>\n",
       "      <td>0.190000</td>\n",
       "      <td>0.015000</td>\n",
       "      <td>2013.012778</td>\n",
       "      <td>312.238889</td>\n",
       "    </tr>\n",
       "    <tr>\n",
       "      <th>0.75</th>\n",
       "      <td>0.200556</td>\n",
       "      <td>0.014444</td>\n",
       "      <td>2142.740556</td>\n",
       "      <td>319.936667</td>\n",
       "    </tr>\n",
       "    <tr>\n",
       "      <th>1.00</th>\n",
       "      <td>0.205714</td>\n",
       "      <td>0.019286</td>\n",
       "      <td>2195.601429</td>\n",
       "      <td>338.672857</td>\n",
       "    </tr>\n",
       "  </tbody>\n",
       "</table>\n",
       "</div>"
      ],
      "text/plain": [
       "                  mean_MAPE  std_MAPE    mean_RMSE    std_RMSE\n",
       "colsample_bynode                                              \n",
       "0.50               0.190000  0.015000  2013.012778  312.238889\n",
       "0.75               0.200556  0.014444  2142.740556  319.936667\n",
       "1.00               0.205714  0.019286  2195.601429  338.672857"
      ]
     },
     "metadata": {},
     "output_type": "display_data"
    },
    {
     "data": {
      "text/html": [
       "<div>\n",
       "<style scoped>\n",
       "    .dataframe tbody tr th:only-of-type {\n",
       "        vertical-align: middle;\n",
       "    }\n",
       "\n",
       "    .dataframe tbody tr th {\n",
       "        vertical-align: top;\n",
       "    }\n",
       "\n",
       "    .dataframe thead th {\n",
       "        text-align: right;\n",
       "    }\n",
       "</style>\n",
       "<table border=\"1\" class=\"dataframe\">\n",
       "  <thead>\n",
       "    <tr style=\"text-align: right;\">\n",
       "      <th></th>\n",
       "      <th>mean_MAPE</th>\n",
       "      <th>std_MAPE</th>\n",
       "      <th>mean_RMSE</th>\n",
       "      <th>std_RMSE</th>\n",
       "    </tr>\n",
       "    <tr>\n",
       "      <th>min_child_weight</th>\n",
       "      <th></th>\n",
       "      <th></th>\n",
       "      <th></th>\n",
       "      <th></th>\n",
       "    </tr>\n",
       "  </thead>\n",
       "  <tbody>\n",
       "    <tr>\n",
       "      <th>1</th>\n",
       "      <td>0.189375</td>\n",
       "      <td>0.017500</td>\n",
       "      <td>2014.300000</td>\n",
       "      <td>320.078750</td>\n",
       "    </tr>\n",
       "    <tr>\n",
       "      <th>3</th>\n",
       "      <td>0.211765</td>\n",
       "      <td>0.016471</td>\n",
       "      <td>2236.085882</td>\n",
       "      <td>316.093529</td>\n",
       "    </tr>\n",
       "    <tr>\n",
       "      <th>5</th>\n",
       "      <td>0.192941</td>\n",
       "      <td>0.014118</td>\n",
       "      <td>2076.454118</td>\n",
       "      <td>330.925294</td>\n",
       "    </tr>\n",
       "  </tbody>\n",
       "</table>\n",
       "</div>"
      ],
      "text/plain": [
       "                  mean_MAPE  std_MAPE    mean_RMSE    std_RMSE\n",
       "min_child_weight                                              \n",
       "1                  0.189375  0.017500  2014.300000  320.078750\n",
       "3                  0.211765  0.016471  2236.085882  316.093529\n",
       "5                  0.192941  0.014118  2076.454118  330.925294"
      ]
     },
     "metadata": {},
     "output_type": "display_data"
    }
   ],
   "source": [
    "# only the first run\n",
    "df00 = df00[df00['id'] < 10000]\n",
    "\n",
    "df00 = create_mape_rmse_columns(df00)\n",
    "\n",
    "# filter best 50 of 173\n",
    "df00 = df00.loc[df00['mean_MAPE'].sort_values().index]\n",
    "df00 = df00.iloc[:50]\n",
    "\n",
    "list_columns = [\n",
    "    'n_estimatores', 'learning_rate', 'max_depth', 'subsample',\n",
    "    'colsample_bytee', 'colsample_bynode', 'min_child_weight'\n",
    "]\n",
    "\n",
    "display_errors_by_parameters(df00, list_columns)"
   ]
  },
  {
   "cell_type": "markdown",
   "id": "5bf26133",
   "metadata": {},
   "source": [
    "### 2.1.1. SELECTED PARAMS"
   ]
  },
  {
   "cell_type": "code",
   "execution_count": null,
   "id": "755be56f",
   "metadata": {
    "ExecuteTime": {
     "end_time": "2022-01-31T14:32:39.436157Z",
     "start_time": "2022-01-31T14:32:39.436157Z"
    }
   },
   "outputs": [],
   "source": [
    "param = {\n",
    "    'n_estimatores': [1000, 1300, 1700],\n",
    "    'learning_rate': [0.08, 0.11, 0.14], \n",
    "    'max_depth': [9, 12],\n",
    "    'subsample': [0.5],  \n",
    "    'colsample_bytee': [0.5],\n",
    "    'colsample_bynode': [0.5],\n",
    "    'min_child_weight': [5]\n",
    "}"
   ]
  },
  {
   "cell_type": "markdown",
   "id": "965256e0",
   "metadata": {},
   "source": [
    "## 2.2. SECOND ROUND"
   ]
  },
  {
   "cell_type": "code",
   "execution_count": 30,
   "id": "723b37a7",
   "metadata": {
    "ExecuteTime": {
     "end_time": "2022-01-31T14:40:23.729627Z",
     "start_time": "2022-01-31T14:40:23.713633Z"
    }
   },
   "outputs": [],
   "source": [
    "df01 = data.copy()"
   ]
  },
  {
   "cell_type": "code",
   "execution_count": 31,
   "id": "c505589a",
   "metadata": {
    "ExecuteTime": {
     "end_time": "2022-01-31T14:40:24.296457Z",
     "start_time": "2022-01-31T14:40:24.223478Z"
    }
   },
   "outputs": [
    {
     "data": {
      "text/html": [
       "<div>\n",
       "<style scoped>\n",
       "    .dataframe tbody tr th:only-of-type {\n",
       "        vertical-align: middle;\n",
       "    }\n",
       "\n",
       "    .dataframe tbody tr th {\n",
       "        vertical-align: top;\n",
       "    }\n",
       "\n",
       "    .dataframe thead th {\n",
       "        text-align: right;\n",
       "    }\n",
       "</style>\n",
       "<table border=\"1\" class=\"dataframe\">\n",
       "  <thead>\n",
       "    <tr style=\"text-align: right;\">\n",
       "      <th></th>\n",
       "      <th>mean_MAPE</th>\n",
       "      <th>std_MAPE</th>\n",
       "      <th>mean_RMSE</th>\n",
       "      <th>std_RMSE</th>\n",
       "    </tr>\n",
       "    <tr>\n",
       "      <th>n_estimatores</th>\n",
       "      <th></th>\n",
       "      <th></th>\n",
       "      <th></th>\n",
       "      <th></th>\n",
       "    </tr>\n",
       "  </thead>\n",
       "  <tbody>\n",
       "    <tr>\n",
       "      <th>1000</th>\n",
       "      <td>0.138333</td>\n",
       "      <td>0.018333</td>\n",
       "      <td>1475.536667</td>\n",
       "      <td>292.238333</td>\n",
       "    </tr>\n",
       "    <tr>\n",
       "      <th>1300</th>\n",
       "      <td>0.138333</td>\n",
       "      <td>0.018333</td>\n",
       "      <td>1475.536667</td>\n",
       "      <td>292.238333</td>\n",
       "    </tr>\n",
       "    <tr>\n",
       "      <th>1700</th>\n",
       "      <td>0.138333</td>\n",
       "      <td>0.018333</td>\n",
       "      <td>1475.536667</td>\n",
       "      <td>292.238333</td>\n",
       "    </tr>\n",
       "  </tbody>\n",
       "</table>\n",
       "</div>"
      ],
      "text/plain": [
       "               mean_MAPE  std_MAPE    mean_RMSE    std_RMSE\n",
       "n_estimatores                                              \n",
       "1000            0.138333  0.018333  1475.536667  292.238333\n",
       "1300            0.138333  0.018333  1475.536667  292.238333\n",
       "1700            0.138333  0.018333  1475.536667  292.238333"
      ]
     },
     "metadata": {},
     "output_type": "display_data"
    },
    {
     "data": {
      "text/html": [
       "<div>\n",
       "<style scoped>\n",
       "    .dataframe tbody tr th:only-of-type {\n",
       "        vertical-align: middle;\n",
       "    }\n",
       "\n",
       "    .dataframe tbody tr th {\n",
       "        vertical-align: top;\n",
       "    }\n",
       "\n",
       "    .dataframe thead th {\n",
       "        text-align: right;\n",
       "    }\n",
       "</style>\n",
       "<table border=\"1\" class=\"dataframe\">\n",
       "  <thead>\n",
       "    <tr style=\"text-align: right;\">\n",
       "      <th></th>\n",
       "      <th>mean_MAPE</th>\n",
       "      <th>std_MAPE</th>\n",
       "      <th>mean_RMSE</th>\n",
       "      <th>std_RMSE</th>\n",
       "    </tr>\n",
       "    <tr>\n",
       "      <th>learning_rate</th>\n",
       "      <th></th>\n",
       "      <th></th>\n",
       "      <th></th>\n",
       "      <th></th>\n",
       "    </tr>\n",
       "  </thead>\n",
       "  <tbody>\n",
       "    <tr>\n",
       "      <th>0.08</th>\n",
       "      <td>0.150</td>\n",
       "      <td>0.015</td>\n",
       "      <td>1612.275</td>\n",
       "      <td>302.300</td>\n",
       "    </tr>\n",
       "    <tr>\n",
       "      <th>0.11</th>\n",
       "      <td>0.135</td>\n",
       "      <td>0.020</td>\n",
       "      <td>1433.575</td>\n",
       "      <td>286.405</td>\n",
       "    </tr>\n",
       "    <tr>\n",
       "      <th>0.14</th>\n",
       "      <td>0.130</td>\n",
       "      <td>0.020</td>\n",
       "      <td>1380.760</td>\n",
       "      <td>288.010</td>\n",
       "    </tr>\n",
       "  </tbody>\n",
       "</table>\n",
       "</div>"
      ],
      "text/plain": [
       "               mean_MAPE  std_MAPE  mean_RMSE  std_RMSE\n",
       "learning_rate                                          \n",
       "0.08               0.150     0.015   1612.275   302.300\n",
       "0.11               0.135     0.020   1433.575   286.405\n",
       "0.14               0.130     0.020   1380.760   288.010"
      ]
     },
     "metadata": {},
     "output_type": "display_data"
    },
    {
     "data": {
      "text/html": [
       "<div>\n",
       "<style scoped>\n",
       "    .dataframe tbody tr th:only-of-type {\n",
       "        vertical-align: middle;\n",
       "    }\n",
       "\n",
       "    .dataframe tbody tr th {\n",
       "        vertical-align: top;\n",
       "    }\n",
       "\n",
       "    .dataframe thead th {\n",
       "        text-align: right;\n",
       "    }\n",
       "</style>\n",
       "<table border=\"1\" class=\"dataframe\">\n",
       "  <thead>\n",
       "    <tr style=\"text-align: right;\">\n",
       "      <th></th>\n",
       "      <th>mean_MAPE</th>\n",
       "      <th>std_MAPE</th>\n",
       "      <th>mean_RMSE</th>\n",
       "      <th>std_RMSE</th>\n",
       "    </tr>\n",
       "    <tr>\n",
       "      <th>max_depth</th>\n",
       "      <th></th>\n",
       "      <th></th>\n",
       "      <th></th>\n",
       "      <th></th>\n",
       "    </tr>\n",
       "  </thead>\n",
       "  <tbody>\n",
       "    <tr>\n",
       "      <th>9</th>\n",
       "      <td>0.153333</td>\n",
       "      <td>0.016667</td>\n",
       "      <td>1599.103333</td>\n",
       "      <td>282.186667</td>\n",
       "    </tr>\n",
       "    <tr>\n",
       "      <th>12</th>\n",
       "      <td>0.123333</td>\n",
       "      <td>0.020000</td>\n",
       "      <td>1351.970000</td>\n",
       "      <td>302.290000</td>\n",
       "    </tr>\n",
       "  </tbody>\n",
       "</table>\n",
       "</div>"
      ],
      "text/plain": [
       "           mean_MAPE  std_MAPE    mean_RMSE    std_RMSE\n",
       "max_depth                                              \n",
       "9           0.153333  0.016667  1599.103333  282.186667\n",
       "12          0.123333  0.020000  1351.970000  302.290000"
      ]
     },
     "metadata": {},
     "output_type": "display_data"
    }
   ],
   "source": [
    "# id's 10000 --> selected params of first run\n",
    "df01 = df01[(df01['id'] > 10000) & (df01['id'] < 20000)]\n",
    "\n",
    "df01 = create_mape_rmse_columns(df01)\n",
    "\n",
    "list_columns = ['n_estimatores', 'learning_rate', 'max_depth']\n",
    "\n",
    "display_errors_by_parameters(df01, list_columns)"
   ]
  },
  {
   "cell_type": "markdown",
   "id": "e24eedad",
   "metadata": {},
   "source": [
    "### 2.2.1. SELECTED PARAMS"
   ]
  },
  {
   "cell_type": "code",
   "execution_count": null,
   "id": "e7d99c6b",
   "metadata": {
    "ExecuteTime": {
     "end_time": "2022-01-31T14:32:39.448151Z",
     "start_time": "2022-01-31T14:32:39.448151Z"
    }
   },
   "outputs": [],
   "source": [
    "param = {\n",
    "    'n_estimatores': [1300, 1500],\n",
    "    'learning_rate': [0.11, 0.14, 0.17], \n",
    "    'max_depth': [12, 15],\n",
    "    'subsample': [0.5],  \n",
    "    'colsample_bytee': [0.5],\n",
    "    'colsample_bynode': [0.5],\n",
    "    'min_child_weight': [5]\n",
    "}"
   ]
  },
  {
   "cell_type": "markdown",
   "id": "7e14b8e6",
   "metadata": {},
   "source": [
    "## 2.3. LAST ROUND"
   ]
  },
  {
   "cell_type": "code",
   "execution_count": 22,
   "id": "76c47186",
   "metadata": {
    "ExecuteTime": {
     "end_time": "2022-01-31T14:35:33.753647Z",
     "start_time": "2022-01-31T14:35:33.744630Z"
    }
   },
   "outputs": [],
   "source": [
    "df02 = data.copy()\n",
    "df03 = data.copy()"
   ]
  },
  {
   "cell_type": "code",
   "execution_count": 23,
   "id": "fb046b29",
   "metadata": {
    "ExecuteTime": {
     "end_time": "2022-01-31T14:35:35.267647Z",
     "start_time": "2022-01-31T14:35:35.239661Z"
    }
   },
   "outputs": [],
   "source": [
    "# id's 20000 --> selected params of second run\n",
    "df02 = df02[(df02['id'] > 20000) & (df02['id'] < 30000)]\n",
    "# id' 30000 -> selected params of second run--> but using new param to test--> num_parallel_tree = 2\n",
    "df03 = df03[(df03['id'] > 30000) & (df03['id'] < 40000)]\n",
    "\n",
    "df02 = create_mape_rmse_columns(df02)\n",
    "\n",
    "df03 = create_mape_rmse_columns(df02)\n",
    "\n",
    "list_columns = ['n_estimatores', 'learning_rate', 'max_depth']"
   ]
  },
  {
   "cell_type": "markdown",
   "id": "af964c03",
   "metadata": {},
   "source": [
    "Selected params of second run"
   ]
  },
  {
   "cell_type": "code",
   "execution_count": 32,
   "id": "de3e9c75",
   "metadata": {
    "ExecuteTime": {
     "end_time": "2022-01-31T14:42:37.020935Z",
     "start_time": "2022-01-31T14:42:36.961968Z"
    }
   },
   "outputs": [
    {
     "data": {
      "text/html": [
       "<div>\n",
       "<style scoped>\n",
       "    .dataframe tbody tr th:only-of-type {\n",
       "        vertical-align: middle;\n",
       "    }\n",
       "\n",
       "    .dataframe tbody tr th {\n",
       "        vertical-align: top;\n",
       "    }\n",
       "\n",
       "    .dataframe thead th {\n",
       "        text-align: right;\n",
       "    }\n",
       "</style>\n",
       "<table border=\"1\" class=\"dataframe\">\n",
       "  <thead>\n",
       "    <tr style=\"text-align: right;\">\n",
       "      <th></th>\n",
       "      <th>mean_MAPE</th>\n",
       "      <th>std_MAPE</th>\n",
       "      <th>mean_RMSE</th>\n",
       "      <th>std_RMSE</th>\n",
       "    </tr>\n",
       "    <tr>\n",
       "      <th>n_estimatores</th>\n",
       "      <th></th>\n",
       "      <th></th>\n",
       "      <th></th>\n",
       "      <th></th>\n",
       "    </tr>\n",
       "  </thead>\n",
       "  <tbody>\n",
       "    <tr>\n",
       "      <th>1300</th>\n",
       "      <td>0.12</td>\n",
       "      <td>0.02</td>\n",
       "      <td>1282.271667</td>\n",
       "      <td>300.011667</td>\n",
       "    </tr>\n",
       "    <tr>\n",
       "      <th>1500</th>\n",
       "      <td>0.12</td>\n",
       "      <td>0.02</td>\n",
       "      <td>1282.271667</td>\n",
       "      <td>300.011667</td>\n",
       "    </tr>\n",
       "  </tbody>\n",
       "</table>\n",
       "</div>"
      ],
      "text/plain": [
       "               mean_MAPE  std_MAPE    mean_RMSE    std_RMSE\n",
       "n_estimatores                                              \n",
       "1300                0.12      0.02  1282.271667  300.011667\n",
       "1500                0.12      0.02  1282.271667  300.011667"
      ]
     },
     "metadata": {},
     "output_type": "display_data"
    },
    {
     "data": {
      "text/html": [
       "<div>\n",
       "<style scoped>\n",
       "    .dataframe tbody tr th:only-of-type {\n",
       "        vertical-align: middle;\n",
       "    }\n",
       "\n",
       "    .dataframe tbody tr th {\n",
       "        vertical-align: top;\n",
       "    }\n",
       "\n",
       "    .dataframe thead th {\n",
       "        text-align: right;\n",
       "    }\n",
       "</style>\n",
       "<table border=\"1\" class=\"dataframe\">\n",
       "  <thead>\n",
       "    <tr style=\"text-align: right;\">\n",
       "      <th></th>\n",
       "      <th>mean_MAPE</th>\n",
       "      <th>std_MAPE</th>\n",
       "      <th>mean_RMSE</th>\n",
       "      <th>std_RMSE</th>\n",
       "    </tr>\n",
       "    <tr>\n",
       "      <th>learning_rate</th>\n",
       "      <th></th>\n",
       "      <th></th>\n",
       "      <th></th>\n",
       "      <th></th>\n",
       "    </tr>\n",
       "  </thead>\n",
       "  <tbody>\n",
       "    <tr>\n",
       "      <th>0.11</th>\n",
       "      <td>0.12</td>\n",
       "      <td>0.02</td>\n",
       "      <td>1280.500</td>\n",
       "      <td>303.240</td>\n",
       "    </tr>\n",
       "    <tr>\n",
       "      <th>0.14</th>\n",
       "      <td>0.12</td>\n",
       "      <td>0.02</td>\n",
       "      <td>1279.760</td>\n",
       "      <td>312.385</td>\n",
       "    </tr>\n",
       "    <tr>\n",
       "      <th>0.17</th>\n",
       "      <td>0.12</td>\n",
       "      <td>0.02</td>\n",
       "      <td>1286.555</td>\n",
       "      <td>284.410</td>\n",
       "    </tr>\n",
       "  </tbody>\n",
       "</table>\n",
       "</div>"
      ],
      "text/plain": [
       "               mean_MAPE  std_MAPE  mean_RMSE  std_RMSE\n",
       "learning_rate                                          \n",
       "0.11                0.12      0.02   1280.500   303.240\n",
       "0.14                0.12      0.02   1279.760   312.385\n",
       "0.17                0.12      0.02   1286.555   284.410"
      ]
     },
     "metadata": {},
     "output_type": "display_data"
    },
    {
     "data": {
      "text/html": [
       "<div>\n",
       "<style scoped>\n",
       "    .dataframe tbody tr th:only-of-type {\n",
       "        vertical-align: middle;\n",
       "    }\n",
       "\n",
       "    .dataframe tbody tr th {\n",
       "        vertical-align: top;\n",
       "    }\n",
       "\n",
       "    .dataframe thead th {\n",
       "        text-align: right;\n",
       "    }\n",
       "</style>\n",
       "<table border=\"1\" class=\"dataframe\">\n",
       "  <thead>\n",
       "    <tr style=\"text-align: right;\">\n",
       "      <th></th>\n",
       "      <th>mean_MAPE</th>\n",
       "      <th>std_MAPE</th>\n",
       "      <th>mean_RMSE</th>\n",
       "      <th>std_RMSE</th>\n",
       "    </tr>\n",
       "    <tr>\n",
       "      <th>max_depth</th>\n",
       "      <th></th>\n",
       "      <th></th>\n",
       "      <th></th>\n",
       "      <th></th>\n",
       "    </tr>\n",
       "  </thead>\n",
       "  <tbody>\n",
       "    <tr>\n",
       "      <th>12</th>\n",
       "      <td>0.12</td>\n",
       "      <td>0.02</td>\n",
       "      <td>1298.566667</td>\n",
       "      <td>297.333333</td>\n",
       "    </tr>\n",
       "    <tr>\n",
       "      <th>15</th>\n",
       "      <td>0.12</td>\n",
       "      <td>0.02</td>\n",
       "      <td>1265.976667</td>\n",
       "      <td>302.690000</td>\n",
       "    </tr>\n",
       "  </tbody>\n",
       "</table>\n",
       "</div>"
      ],
      "text/plain": [
       "           mean_MAPE  std_MAPE    mean_RMSE    std_RMSE\n",
       "max_depth                                              \n",
       "12              0.12      0.02  1298.566667  297.333333\n",
       "15              0.12      0.02  1265.976667  302.690000"
      ]
     },
     "metadata": {},
     "output_type": "display_data"
    }
   ],
   "source": [
    "display_errors_by_parameters(df02, list_columns)"
   ]
  },
  {
   "cell_type": "markdown",
   "id": "ddcb60c9",
   "metadata": {},
   "source": [
    "Selected params of second run--> but using new param to test--> num_parallel_tree = 2"
   ]
  },
  {
   "cell_type": "code",
   "execution_count": 33,
   "id": "eb06a290",
   "metadata": {
    "ExecuteTime": {
     "end_time": "2022-01-31T14:42:47.988546Z",
     "start_time": "2022-01-31T14:42:47.930577Z"
    },
    "scrolled": true
   },
   "outputs": [
    {
     "data": {
      "text/html": [
       "<div>\n",
       "<style scoped>\n",
       "    .dataframe tbody tr th:only-of-type {\n",
       "        vertical-align: middle;\n",
       "    }\n",
       "\n",
       "    .dataframe tbody tr th {\n",
       "        vertical-align: top;\n",
       "    }\n",
       "\n",
       "    .dataframe thead th {\n",
       "        text-align: right;\n",
       "    }\n",
       "</style>\n",
       "<table border=\"1\" class=\"dataframe\">\n",
       "  <thead>\n",
       "    <tr style=\"text-align: right;\">\n",
       "      <th></th>\n",
       "      <th>mean_MAPE</th>\n",
       "      <th>std_MAPE</th>\n",
       "      <th>mean_RMSE</th>\n",
       "      <th>std_RMSE</th>\n",
       "    </tr>\n",
       "    <tr>\n",
       "      <th>n_estimatores</th>\n",
       "      <th></th>\n",
       "      <th></th>\n",
       "      <th></th>\n",
       "      <th></th>\n",
       "    </tr>\n",
       "  </thead>\n",
       "  <tbody>\n",
       "    <tr>\n",
       "      <th>1300</th>\n",
       "      <td>0.12</td>\n",
       "      <td>0.02</td>\n",
       "      <td>1282.271667</td>\n",
       "      <td>300.011667</td>\n",
       "    </tr>\n",
       "    <tr>\n",
       "      <th>1500</th>\n",
       "      <td>0.12</td>\n",
       "      <td>0.02</td>\n",
       "      <td>1282.271667</td>\n",
       "      <td>300.011667</td>\n",
       "    </tr>\n",
       "  </tbody>\n",
       "</table>\n",
       "</div>"
      ],
      "text/plain": [
       "               mean_MAPE  std_MAPE    mean_RMSE    std_RMSE\n",
       "n_estimatores                                              \n",
       "1300                0.12      0.02  1282.271667  300.011667\n",
       "1500                0.12      0.02  1282.271667  300.011667"
      ]
     },
     "metadata": {},
     "output_type": "display_data"
    },
    {
     "data": {
      "text/html": [
       "<div>\n",
       "<style scoped>\n",
       "    .dataframe tbody tr th:only-of-type {\n",
       "        vertical-align: middle;\n",
       "    }\n",
       "\n",
       "    .dataframe tbody tr th {\n",
       "        vertical-align: top;\n",
       "    }\n",
       "\n",
       "    .dataframe thead th {\n",
       "        text-align: right;\n",
       "    }\n",
       "</style>\n",
       "<table border=\"1\" class=\"dataframe\">\n",
       "  <thead>\n",
       "    <tr style=\"text-align: right;\">\n",
       "      <th></th>\n",
       "      <th>mean_MAPE</th>\n",
       "      <th>std_MAPE</th>\n",
       "      <th>mean_RMSE</th>\n",
       "      <th>std_RMSE</th>\n",
       "    </tr>\n",
       "    <tr>\n",
       "      <th>learning_rate</th>\n",
       "      <th></th>\n",
       "      <th></th>\n",
       "      <th></th>\n",
       "      <th></th>\n",
       "    </tr>\n",
       "  </thead>\n",
       "  <tbody>\n",
       "    <tr>\n",
       "      <th>0.11</th>\n",
       "      <td>0.12</td>\n",
       "      <td>0.02</td>\n",
       "      <td>1280.500</td>\n",
       "      <td>303.240</td>\n",
       "    </tr>\n",
       "    <tr>\n",
       "      <th>0.14</th>\n",
       "      <td>0.12</td>\n",
       "      <td>0.02</td>\n",
       "      <td>1279.760</td>\n",
       "      <td>312.385</td>\n",
       "    </tr>\n",
       "    <tr>\n",
       "      <th>0.17</th>\n",
       "      <td>0.12</td>\n",
       "      <td>0.02</td>\n",
       "      <td>1286.555</td>\n",
       "      <td>284.410</td>\n",
       "    </tr>\n",
       "  </tbody>\n",
       "</table>\n",
       "</div>"
      ],
      "text/plain": [
       "               mean_MAPE  std_MAPE  mean_RMSE  std_RMSE\n",
       "learning_rate                                          \n",
       "0.11                0.12      0.02   1280.500   303.240\n",
       "0.14                0.12      0.02   1279.760   312.385\n",
       "0.17                0.12      0.02   1286.555   284.410"
      ]
     },
     "metadata": {},
     "output_type": "display_data"
    },
    {
     "data": {
      "text/html": [
       "<div>\n",
       "<style scoped>\n",
       "    .dataframe tbody tr th:only-of-type {\n",
       "        vertical-align: middle;\n",
       "    }\n",
       "\n",
       "    .dataframe tbody tr th {\n",
       "        vertical-align: top;\n",
       "    }\n",
       "\n",
       "    .dataframe thead th {\n",
       "        text-align: right;\n",
       "    }\n",
       "</style>\n",
       "<table border=\"1\" class=\"dataframe\">\n",
       "  <thead>\n",
       "    <tr style=\"text-align: right;\">\n",
       "      <th></th>\n",
       "      <th>mean_MAPE</th>\n",
       "      <th>std_MAPE</th>\n",
       "      <th>mean_RMSE</th>\n",
       "      <th>std_RMSE</th>\n",
       "    </tr>\n",
       "    <tr>\n",
       "      <th>max_depth</th>\n",
       "      <th></th>\n",
       "      <th></th>\n",
       "      <th></th>\n",
       "      <th></th>\n",
       "    </tr>\n",
       "  </thead>\n",
       "  <tbody>\n",
       "    <tr>\n",
       "      <th>12</th>\n",
       "      <td>0.12</td>\n",
       "      <td>0.02</td>\n",
       "      <td>1298.566667</td>\n",
       "      <td>297.333333</td>\n",
       "    </tr>\n",
       "    <tr>\n",
       "      <th>15</th>\n",
       "      <td>0.12</td>\n",
       "      <td>0.02</td>\n",
       "      <td>1265.976667</td>\n",
       "      <td>302.690000</td>\n",
       "    </tr>\n",
       "  </tbody>\n",
       "</table>\n",
       "</div>"
      ],
      "text/plain": [
       "           mean_MAPE  std_MAPE    mean_RMSE    std_RMSE\n",
       "max_depth                                              \n",
       "12              0.12      0.02  1298.566667  297.333333\n",
       "15              0.12      0.02  1265.976667  302.690000"
      ]
     },
     "metadata": {},
     "output_type": "display_data"
    }
   ],
   "source": [
    "display_errors_by_parameters(df03, list_columns)"
   ]
  },
  {
   "cell_type": "markdown",
   "id": "2c320afa",
   "metadata": {},
   "source": [
    "### 2.2.1. SELECTED PARAMS"
   ]
  },
  {
   "cell_type": "code",
   "execution_count": null,
   "id": "c143874f",
   "metadata": {
    "ExecuteTime": {
     "end_time": "2022-01-31T14:32:39.448151Z",
     "start_time": "2022-01-31T14:32:39.448151Z"
    }
   },
   "outputs": [],
   "source": [
    "param = {\n",
    "    'n_estimatores': 1300,\n",
    "    'learning_rate': 0.11, \n",
    "    'max_depth': 12,\n",
    "    'subsample': 0.5,  \n",
    "    'colsample_bytee': 0.5,\n",
    "    'colsample_bynode': 0.5,\n",
    "    'min_child_weight': 5\n",
    "}"
   ]
  }
 ],
 "metadata": {
  "kernelspec": {
   "display_name": "Python 3 (ipykernel)",
   "language": "python",
   "name": "python3"
  },
  "language_info": {
   "codemirror_mode": {
    "name": "ipython",
    "version": 3
   },
   "file_extension": ".py",
   "mimetype": "text/x-python",
   "name": "python",
   "nbconvert_exporter": "python",
   "pygments_lexer": "ipython3",
   "version": "3.8.12"
  },
  "varInspector": {
   "cols": {
    "lenName": 16,
    "lenType": 16,
    "lenVar": 40
   },
   "kernels_config": {
    "python": {
     "delete_cmd_postfix": "",
     "delete_cmd_prefix": "del ",
     "library": "var_list.py",
     "varRefreshCmd": "print(var_dic_list())"
    },
    "r": {
     "delete_cmd_postfix": ") ",
     "delete_cmd_prefix": "rm(",
     "library": "var_list.r",
     "varRefreshCmd": "cat(var_dic_list()) "
    }
   },
   "types_to_exclude": [
    "module",
    "function",
    "builtin_function_or_method",
    "instance",
    "_Feature"
   ],
   "window_display": false
  }
 },
 "nbformat": 4,
 "nbformat_minor": 5
}
